{
 "cells": [
  {
   "cell_type": "markdown",
   "metadata": {},
   "source": [
    "# RAG application using open-source models\n",
    "Code adapted from https://github.com/svpino/llm"
   ]
  },
  {
   "cell_type": "code",
   "execution_count": 1,
   "metadata": {},
   "outputs": [
    {
     "name": "stdout",
     "output_type": "stream",
     "text": [
      "Requirement already satisfied: pypdf in d:\\unistra\\unistra\\recherche\\ragbot\\env\\lib\\site-packages (4.2.0)\n",
      "Requirement already satisfied: typing_extensions>=4.0 in d:\\unistra\\unistra\\recherche\\ragbot\\env\\lib\\site-packages (from pypdf) (4.11.0)\n"
     ]
    },
    {
     "name": "stderr",
     "output_type": "stream",
     "text": [
      "WARNING: You are using pip version 21.1.1; however, version 24.0 is available.\n",
      "You should consider upgrading via the 'd:\\unistra\\unistra\\recherche\\ragbot\\env\\scripts\\python.exe -m pip install --upgrade pip' command.\n"
     ]
    },
    {
     "name": "stdout",
     "output_type": "stream",
     "text": [
      "Requirement already satisfied: langchain_community in d:\\unistra\\unistra\\recherche\\ragbot\\env\\lib\\site-packages (0.0.34)\n",
      "Requirement already satisfied: langsmith<0.2.0,>=0.1.0 in d:\\unistra\\unistra\\recherche\\ragbot\\env\\lib\\site-packages (from langchain_community) (0.1.51)\n",
      "Requirement already satisfied: langchain-core<0.2.0,>=0.1.45 in d:\\unistra\\unistra\\recherche\\ragbot\\env\\lib\\site-packages (from langchain_community) (0.1.46)\n",
      "Requirement already satisfied: SQLAlchemy<3,>=1.4 in d:\\unistra\\unistra\\recherche\\ragbot\\env\\lib\\site-packages (from langchain_community) (2.0.29)\n",
      "Requirement already satisfied: dataclasses-json<0.7,>=0.5.7 in d:\\unistra\\unistra\\recherche\\ragbot\\env\\lib\\site-packages (from langchain_community) (0.6.4)\n",
      "Requirement already satisfied: PyYAML>=5.3 in d:\\unistra\\unistra\\recherche\\ragbot\\env\\lib\\site-packages (from langchain_community) (6.0.1)\n",
      "Requirement already satisfied: numpy<2,>=1 in d:\\unistra\\unistra\\recherche\\ragbot\\env\\lib\\site-packages (from langchain_community) (1.26.4)\n",
      "Requirement already satisfied: tenacity<9.0.0,>=8.1.0 in d:\\unistra\\unistra\\recherche\\ragbot\\env\\lib\\site-packages (from langchain_community) (8.2.3)\n",
      "Requirement already satisfied: aiohttp<4.0.0,>=3.8.3 in d:\\unistra\\unistra\\recherche\\ragbot\\env\\lib\\site-packages (from langchain_community) (3.9.5)\n",
      "Requirement already satisfied: requests<3,>=2 in d:\\unistra\\unistra\\recherche\\ragbot\\env\\lib\\site-packages (from langchain_community) (2.31.0)\n",
      "Requirement already satisfied: multidict<7.0,>=4.5 in d:\\unistra\\unistra\\recherche\\ragbot\\env\\lib\\site-packages (from aiohttp<4.0.0,>=3.8.3->langchain_community) (6.0.5)\n",
      "Requirement already satisfied: aiosignal>=1.1.2 in d:\\unistra\\unistra\\recherche\\ragbot\\env\\lib\\site-packages (from aiohttp<4.0.0,>=3.8.3->langchain_community) (1.3.1)\n",
      "Requirement already satisfied: async-timeout<5.0,>=4.0 in d:\\unistra\\unistra\\recherche\\ragbot\\env\\lib\\site-packages (from aiohttp<4.0.0,>=3.8.3->langchain_community) (4.0.3)\n",
      "Requirement already satisfied: attrs>=17.3.0 in d:\\unistra\\unistra\\recherche\\ragbot\\env\\lib\\site-packages (from aiohttp<4.0.0,>=3.8.3->langchain_community) (23.2.0)\n",
      "Requirement already satisfied: frozenlist>=1.1.1 in d:\\unistra\\unistra\\recherche\\ragbot\\env\\lib\\site-packages (from aiohttp<4.0.0,>=3.8.3->langchain_community) (1.4.1)\n",
      "Requirement already satisfied: yarl<2.0,>=1.0 in d:\\unistra\\unistra\\recherche\\ragbot\\env\\lib\\site-packages (from aiohttp<4.0.0,>=3.8.3->langchain_community) (1.9.4)\n",
      "Requirement already satisfied: typing-inspect<1,>=0.4.0 in d:\\unistra\\unistra\\recherche\\ragbot\\env\\lib\\site-packages (from dataclasses-json<0.7,>=0.5.7->langchain_community) (0.9.0)\n",
      "Requirement already satisfied: marshmallow<4.0.0,>=3.18.0 in d:\\unistra\\unistra\\recherche\\ragbot\\env\\lib\\site-packages (from dataclasses-json<0.7,>=0.5.7->langchain_community) (3.21.1)\n",
      "Requirement already satisfied: pydantic<3,>=1 in d:\\unistra\\unistra\\recherche\\ragbot\\env\\lib\\site-packages (from langchain-core<0.2.0,>=0.1.45->langchain_community) (2.7.1)\n",
      "Requirement already satisfied: packaging<24.0,>=23.2 in d:\\unistra\\unistra\\recherche\\ragbot\\env\\lib\\site-packages (from langchain-core<0.2.0,>=0.1.45->langchain_community) (23.2)\n",
      "Requirement already satisfied: jsonpatch<2.0,>=1.33 in d:\\unistra\\unistra\\recherche\\ragbot\\env\\lib\\site-packages (from langchain-core<0.2.0,>=0.1.45->langchain_community) (1.33)\n",
      "Requirement already satisfied: jsonpointer>=1.9 in d:\\unistra\\unistra\\recherche\\ragbot\\env\\lib\\site-packages (from jsonpatch<2.0,>=1.33->langchain-core<0.2.0,>=0.1.45->langchain_community) (2.4)\n",
      "Requirement already satisfied: orjson<4.0.0,>=3.9.14 in d:\\unistra\\unistra\\recherche\\ragbot\\env\\lib\\site-packages (from langsmith<0.2.0,>=0.1.0->langchain_community) (3.10.1)\n",
      "Requirement already satisfied: pydantic-core==2.18.2 in d:\\unistra\\unistra\\recherche\\ragbot\\env\\lib\\site-packages (from pydantic<3,>=1->langchain-core<0.2.0,>=0.1.45->langchain_community) (2.18.2)\n",
      "Requirement already satisfied: annotated-types>=0.4.0 in d:\\unistra\\unistra\\recherche\\ragbot\\env\\lib\\site-packages (from pydantic<3,>=1->langchain-core<0.2.0,>=0.1.45->langchain_community) (0.6.0)\n",
      "Requirement already satisfied: typing-extensions>=4.6.1 in d:\\unistra\\unistra\\recherche\\ragbot\\env\\lib\\site-packages (from pydantic<3,>=1->langchain-core<0.2.0,>=0.1.45->langchain_community) (4.11.0)\n",
      "Requirement already satisfied: charset-normalizer<4,>=2 in d:\\unistra\\unistra\\recherche\\ragbot\\env\\lib\\site-packages (from requests<3,>=2->langchain_community) (3.3.2)\n",
      "Requirement already satisfied: urllib3<3,>=1.21.1 in d:\\unistra\\unistra\\recherche\\ragbot\\env\\lib\\site-packages (from requests<3,>=2->langchain_community) (2.2.1)\n",
      "Requirement already satisfied: idna<4,>=2.5 in d:\\unistra\\unistra\\recherche\\ragbot\\env\\lib\\site-packages (from requests<3,>=2->langchain_community) (3.7)\n",
      "Requirement already satisfied: certifi>=2017.4.17 in d:\\unistra\\unistra\\recherche\\ragbot\\env\\lib\\site-packages (from requests<3,>=2->langchain_community) (2024.2.2)\n",
      "Requirement already satisfied: greenlet!=0.4.17 in d:\\unistra\\unistra\\recherche\\ragbot\\env\\lib\\site-packages (from SQLAlchemy<3,>=1.4->langchain_community) (3.0.3)\n",
      "Requirement already satisfied: mypy-extensions>=0.3.0 in d:\\unistra\\unistra\\recherche\\ragbot\\env\\lib\\site-packages (from typing-inspect<1,>=0.4.0->dataclasses-json<0.7,>=0.5.7->langchain_community) (1.0.0)\n"
     ]
    },
    {
     "name": "stderr",
     "output_type": "stream",
     "text": [
      "WARNING: You are using pip version 21.1.1; however, version 24.0 is available.\n",
      "You should consider upgrading via the 'd:\\unistra\\unistra\\recherche\\ragbot\\env\\scripts\\python.exe -m pip install --upgrade pip' command.\n"
     ]
    },
    {
     "name": "stdout",
     "output_type": "stream",
     "text": [
      "Requirement already satisfied: langchain[docarray] in d:\\unistra\\unistra\\recherche\\ragbot\\env\\lib\\site-packages (0.1.16)\n",
      "Requirement already satisfied: async-timeout<5.0.0,>=4.0.0 in d:\\unistra\\unistra\\recherche\\ragbot\\env\\lib\\site-packages (from langchain[docarray]) (4.0.3)\n",
      "Requirement already satisfied: tenacity<9.0.0,>=8.1.0 in d:\\unistra\\unistra\\recherche\\ragbot\\env\\lib\\site-packages (from langchain[docarray]) (8.2.3)\n",
      "Requirement already satisfied: langchain-core<0.2.0,>=0.1.42 in d:\\unistra\\unistra\\recherche\\ragbot\\env\\lib\\site-packages (from langchain[docarray]) (0.1.46)\n",
      "Requirement already satisfied: langchain-community<0.1,>=0.0.32 in d:\\unistra\\unistra\\recherche\\ragbot\\env\\lib\\site-packages (from langchain[docarray]) (0.0.34)\n",
      "Requirement already satisfied: langsmith<0.2.0,>=0.1.17 in d:\\unistra\\unistra\\recherche\\ragbot\\env\\lib\\site-packages (from langchain[docarray]) (0.1.51)\n",
      "Requirement already satisfied: jsonpatch<2.0,>=1.33 in d:\\unistra\\unistra\\recherche\\ragbot\\env\\lib\\site-packages (from langchain[docarray]) (1.33)\n",
      "Requirement already satisfied: pydantic<3,>=1 in d:\\unistra\\unistra\\recherche\\ragbot\\env\\lib\\site-packages (from langchain[docarray]) (2.7.1)\n",
      "Requirement already satisfied: requests<3,>=2 in d:\\unistra\\unistra\\recherche\\ragbot\\env\\lib\\site-packages (from langchain[docarray]) (2.31.0)\n",
      "Requirement already satisfied: SQLAlchemy<3,>=1.4 in d:\\unistra\\unistra\\recherche\\ragbot\\env\\lib\\site-packages (from langchain[docarray]) (2.0.29)\n",
      "Requirement already satisfied: aiohttp<4.0.0,>=3.8.3 in d:\\unistra\\unistra\\recherche\\ragbot\\env\\lib\\site-packages (from langchain[docarray]) (3.9.5)\n",
      "Requirement already satisfied: langchain-text-splitters<0.1,>=0.0.1 in d:\\unistra\\unistra\\recherche\\ragbot\\env\\lib\\site-packages (from langchain[docarray]) (0.0.1)\n",
      "Requirement already satisfied: numpy<2,>=1 in d:\\unistra\\unistra\\recherche\\ragbot\\env\\lib\\site-packages (from langchain[docarray]) (1.26.4)\n",
      "Requirement already satisfied: PyYAML>=5.3 in d:\\unistra\\unistra\\recherche\\ragbot\\env\\lib\\site-packages (from langchain[docarray]) (6.0.1)\n",
      "Requirement already satisfied: dataclasses-json<0.7,>=0.5.7 in d:\\unistra\\unistra\\recherche\\ragbot\\env\\lib\\site-packages (from langchain[docarray]) (0.6.4)\n",
      "Requirement already satisfied: docarray[hnswlib]<0.33.0,>=0.32.0 in d:\\unistra\\unistra\\recherche\\ragbot\\env\\lib\\site-packages (from langchain[docarray]) (0.32.1)\n",
      "Requirement already satisfied: frozenlist>=1.1.1 in d:\\unistra\\unistra\\recherche\\ragbot\\env\\lib\\site-packages (from aiohttp<4.0.0,>=3.8.3->langchain[docarray]) (1.4.1)\n",
      "Requirement already satisfied: multidict<7.0,>=4.5 in d:\\unistra\\unistra\\recherche\\ragbot\\env\\lib\\site-packages (from aiohttp<4.0.0,>=3.8.3->langchain[docarray]) (6.0.5)\n",
      "Requirement already satisfied: aiosignal>=1.1.2 in d:\\unistra\\unistra\\recherche\\ragbot\\env\\lib\\site-packages (from aiohttp<4.0.0,>=3.8.3->langchain[docarray]) (1.3.1)\n",
      "Requirement already satisfied: yarl<2.0,>=1.0 in d:\\unistra\\unistra\\recherche\\ragbot\\env\\lib\\site-packages (from aiohttp<4.0.0,>=3.8.3->langchain[docarray]) (1.9.4)\n",
      "Requirement already satisfied: attrs>=17.3.0 in d:\\unistra\\unistra\\recherche\\ragbot\\env\\lib\\site-packages (from aiohttp<4.0.0,>=3.8.3->langchain[docarray]) (23.2.0)\n",
      "Requirement already satisfied: marshmallow<4.0.0,>=3.18.0 in d:\\unistra\\unistra\\recherche\\ragbot\\env\\lib\\site-packages (from dataclasses-json<0.7,>=0.5.7->langchain[docarray]) (3.21.1)\n",
      "Requirement already satisfied: typing-inspect<1,>=0.4.0 in d:\\unistra\\unistra\\recherche\\ragbot\\env\\lib\\site-packages (from dataclasses-json<0.7,>=0.5.7->langchain[docarray]) (0.9.0)\n",
      "Requirement already satisfied: types-requests>=2.28.11.6 in d:\\unistra\\unistra\\recherche\\ragbot\\env\\lib\\site-packages (from docarray[hnswlib]<0.33.0,>=0.32.0->langchain[docarray]) (2.31.0.20240406)\n",
      "Requirement already satisfied: rich>=13.1.0 in d:\\unistra\\unistra\\recherche\\ragbot\\env\\lib\\site-packages (from docarray[hnswlib]<0.33.0,>=0.32.0->langchain[docarray]) (13.7.1)\n",
      "Requirement already satisfied: orjson>=3.8.2 in d:\\unistra\\unistra\\recherche\\ragbot\\env\\lib\\site-packages (from docarray[hnswlib]<0.33.0,>=0.32.0->langchain[docarray]) (3.10.1)\n",
      "Requirement already satisfied: protobuf>=3.19.0 in d:\\unistra\\unistra\\recherche\\ragbot\\env\\lib\\site-packages (from docarray[hnswlib]<0.33.0,>=0.32.0->langchain[docarray]) (5.26.1)\n",
      "Requirement already satisfied: hnswlib>=0.6.2 in d:\\unistra\\unistra\\recherche\\ragbot\\env\\lib\\site-packages (from docarray[hnswlib]<0.33.0,>=0.32.0->langchain[docarray]) (0.8.0)\n",
      "Requirement already satisfied: jsonpointer>=1.9 in d:\\unistra\\unistra\\recherche\\ragbot\\env\\lib\\site-packages (from jsonpatch<2.0,>=1.33->langchain[docarray]) (2.4)\n",
      "Requirement already satisfied: packaging<24.0,>=23.2 in d:\\unistra\\unistra\\recherche\\ragbot\\env\\lib\\site-packages (from langchain-core<0.2.0,>=0.1.42->langchain[docarray]) (23.2)\n",
      "Requirement already satisfied: typing-extensions>=4.6.1 in d:\\unistra\\unistra\\recherche\\ragbot\\env\\lib\\site-packages (from pydantic<3,>=1->langchain[docarray]) (4.11.0)\n",
      "Requirement already satisfied: annotated-types>=0.4.0 in d:\\unistra\\unistra\\recherche\\ragbot\\env\\lib\\site-packages (from pydantic<3,>=1->langchain[docarray]) (0.6.0)\n",
      "Requirement already satisfied: pydantic-core==2.18.2 in d:\\unistra\\unistra\\recherche\\ragbot\\env\\lib\\site-packages (from pydantic<3,>=1->langchain[docarray]) (2.18.2)\n",
      "Requirement already satisfied: idna<4,>=2.5 in d:\\unistra\\unistra\\recherche\\ragbot\\env\\lib\\site-packages (from requests<3,>=2->langchain[docarray]) (3.7)\n",
      "Requirement already satisfied: urllib3<3,>=1.21.1 in d:\\unistra\\unistra\\recherche\\ragbot\\env\\lib\\site-packages (from requests<3,>=2->langchain[docarray]) (2.2.1)\n",
      "Requirement already satisfied: certifi>=2017.4.17 in d:\\unistra\\unistra\\recherche\\ragbot\\env\\lib\\site-packages (from requests<3,>=2->langchain[docarray]) (2024.2.2)\n",
      "Requirement already satisfied: charset-normalizer<4,>=2 in d:\\unistra\\unistra\\recherche\\ragbot\\env\\lib\\site-packages (from requests<3,>=2->langchain[docarray]) (3.3.2)\n",
      "Requirement already satisfied: markdown-it-py>=2.2.0 in d:\\unistra\\unistra\\recherche\\ragbot\\env\\lib\\site-packages (from rich>=13.1.0->docarray[hnswlib]<0.33.0,>=0.32.0->langchain[docarray]) (3.0.0)\n",
      "Requirement already satisfied: pygments<3.0.0,>=2.13.0 in d:\\unistra\\unistra\\recherche\\ragbot\\env\\lib\\site-packages (from rich>=13.1.0->docarray[hnswlib]<0.33.0,>=0.32.0->langchain[docarray]) (2.17.2)\n",
      "Requirement already satisfied: mdurl~=0.1 in d:\\unistra\\unistra\\recherche\\ragbot\\env\\lib\\site-packages (from markdown-it-py>=2.2.0->rich>=13.1.0->docarray[hnswlib]<0.33.0,>=0.32.0->langchain[docarray]) (0.1.2)\n",
      "Requirement already satisfied: greenlet!=0.4.17 in d:\\unistra\\unistra\\recherche\\ragbot\\env\\lib\\site-packages (from SQLAlchemy<3,>=1.4->langchain[docarray]) (3.0.3)\n",
      "Requirement already satisfied: mypy-extensions>=0.3.0 in d:\\unistra\\unistra\\recherche\\ragbot\\env\\lib\\site-packages (from typing-inspect<1,>=0.4.0->dataclasses-json<0.7,>=0.5.7->langchain[docarray]) (1.0.0)\n"
     ]
    },
    {
     "name": "stderr",
     "output_type": "stream",
     "text": [
      "WARNING: You are using pip version 21.1.1; however, version 24.0 is available.\n",
      "You should consider upgrading via the 'd:\\unistra\\unistra\\recherche\\ragbot\\env\\scripts\\python.exe -m pip install --upgrade pip' command.\n"
     ]
    },
    {
     "name": "stdout",
     "output_type": "stream",
     "text": [
      "Collecting pydantic==1.10.9\n",
      "  Downloading pydantic-1.10.9-cp39-cp39-win_amd64.whl (2.2 MB)\n",
      "Requirement already satisfied: typing-extensions>=4.2.0 in d:\\unistra\\unistra\\recherche\\ragbot\\env\\lib\\site-packages (from pydantic==1.10.9) (4.11.0)\n",
      "Installing collected packages: pydantic\n",
      "  Attempting uninstall: pydantic\n",
      "    Found existing installation: pydantic 2.7.1\n",
      "    Uninstalling pydantic-2.7.1:\n",
      "      Successfully uninstalled pydantic-2.7.1\n",
      "Successfully installed pydantic-1.10.9\n"
     ]
    },
    {
     "name": "stderr",
     "output_type": "stream",
     "text": [
      "WARNING: You are using pip version 21.1.1; however, version 24.0 is available.\n",
      "You should consider upgrading via the 'd:\\unistra\\unistra\\recherche\\ragbot\\env\\scripts\\python.exe -m pip install --upgrade pip' command.\n"
     ]
    },
    {
     "name": "stdout",
     "output_type": "stream",
     "text": [
      "Requirement already satisfied: langchain in d:\\unistra\\unistra\\recherche\\ragbot\\env\\lib\\site-packages (0.1.16)\n",
      "Requirement already satisfied: PyYAML>=5.3 in d:\\unistra\\unistra\\recherche\\ragbot\\env\\lib\\site-packages (from langchain) (6.0.1)\n",
      "Requirement already satisfied: pydantic<3,>=1 in d:\\unistra\\unistra\\recherche\\ragbot\\env\\lib\\site-packages (from langchain) (1.10.9)\n",
      "Requirement already satisfied: aiohttp<4.0.0,>=3.8.3 in d:\\unistra\\unistra\\recherche\\ragbot\\env\\lib\\site-packages (from langchain) (3.9.5)\n",
      "Requirement already satisfied: tenacity<9.0.0,>=8.1.0 in d:\\unistra\\unistra\\recherche\\ragbot\\env\\lib\\site-packages (from langchain) (8.2.3)\n",
      "Requirement already satisfied: requests<3,>=2 in d:\\unistra\\unistra\\recherche\\ragbot\\env\\lib\\site-packages (from langchain) (2.31.0)\n",
      "Requirement already satisfied: async-timeout<5.0.0,>=4.0.0 in d:\\unistra\\unistra\\recherche\\ragbot\\env\\lib\\site-packages (from langchain) (4.0.3)\n",
      "Requirement already satisfied: langchain-text-splitters<0.1,>=0.0.1 in d:\\unistra\\unistra\\recherche\\ragbot\\env\\lib\\site-packages (from langchain) (0.0.1)\n",
      "Requirement already satisfied: langsmith<0.2.0,>=0.1.17 in d:\\unistra\\unistra\\recherche\\ragbot\\env\\lib\\site-packages (from langchain) (0.1.51)\n",
      "Requirement already satisfied: langchain-core<0.2.0,>=0.1.42 in d:\\unistra\\unistra\\recherche\\ragbot\\env\\lib\\site-packages (from langchain) (0.1.46)\n",
      "Requirement already satisfied: jsonpatch<2.0,>=1.33 in d:\\unistra\\unistra\\recherche\\ragbot\\env\\lib\\site-packages (from langchain) (1.33)\n",
      "Requirement already satisfied: langchain-community<0.1,>=0.0.32 in d:\\unistra\\unistra\\recherche\\ragbot\\env\\lib\\site-packages (from langchain) (0.0.34)\n",
      "Requirement already satisfied: numpy<2,>=1 in d:\\unistra\\unistra\\recherche\\ragbot\\env\\lib\\site-packages (from langchain) (1.26.4)\n",
      "Requirement already satisfied: dataclasses-json<0.7,>=0.5.7 in d:\\unistra\\unistra\\recherche\\ragbot\\env\\lib\\site-packages (from langchain) (0.6.4)\n",
      "Requirement already satisfied: SQLAlchemy<3,>=1.4 in d:\\unistra\\unistra\\recherche\\ragbot\\env\\lib\\site-packages (from langchain) (2.0.29)\n",
      "Requirement already satisfied: aiosignal>=1.1.2 in d:\\unistra\\unistra\\recherche\\ragbot\\env\\lib\\site-packages (from aiohttp<4.0.0,>=3.8.3->langchain) (1.3.1)\n",
      "Requirement already satisfied: multidict<7.0,>=4.5 in d:\\unistra\\unistra\\recherche\\ragbot\\env\\lib\\site-packages (from aiohttp<4.0.0,>=3.8.3->langchain) (6.0.5)\n",
      "Requirement already satisfied: attrs>=17.3.0 in d:\\unistra\\unistra\\recherche\\ragbot\\env\\lib\\site-packages (from aiohttp<4.0.0,>=3.8.3->langchain) (23.2.0)\n",
      "Requirement already satisfied: frozenlist>=1.1.1 in d:\\unistra\\unistra\\recherche\\ragbot\\env\\lib\\site-packages (from aiohttp<4.0.0,>=3.8.3->langchain) (1.4.1)\n",
      "Requirement already satisfied: yarl<2.0,>=1.0 in d:\\unistra\\unistra\\recherche\\ragbot\\env\\lib\\site-packages (from aiohttp<4.0.0,>=3.8.3->langchain) (1.9.4)\n",
      "Requirement already satisfied: typing-inspect<1,>=0.4.0 in d:\\unistra\\unistra\\recherche\\ragbot\\env\\lib\\site-packages (from dataclasses-json<0.7,>=0.5.7->langchain) (0.9.0)\n",
      "Requirement already satisfied: marshmallow<4.0.0,>=3.18.0 in d:\\unistra\\unistra\\recherche\\ragbot\\env\\lib\\site-packages (from dataclasses-json<0.7,>=0.5.7->langchain) (3.21.1)\n",
      "Requirement already satisfied: jsonpointer>=1.9 in d:\\unistra\\unistra\\recherche\\ragbot\\env\\lib\\site-packages (from jsonpatch<2.0,>=1.33->langchain) (2.4)\n",
      "Requirement already satisfied: packaging<24.0,>=23.2 in d:\\unistra\\unistra\\recherche\\ragbot\\env\\lib\\site-packages (from langchain-core<0.2.0,>=0.1.42->langchain) (23.2)\n",
      "Requirement already satisfied: orjson<4.0.0,>=3.9.14 in d:\\unistra\\unistra\\recherche\\ragbot\\env\\lib\\site-packages (from langsmith<0.2.0,>=0.1.17->langchain) (3.10.1)\n",
      "Requirement already satisfied: typing-extensions>=4.2.0 in d:\\unistra\\unistra\\recherche\\ragbot\\env\\lib\\site-packages (from pydantic<3,>=1->langchain) (4.11.0)\n",
      "Requirement already satisfied: certifi>=2017.4.17 in d:\\unistra\\unistra\\recherche\\ragbot\\env\\lib\\site-packages (from requests<3,>=2->langchain) (2024.2.2)\n",
      "Requirement already satisfied: charset-normalizer<4,>=2 in d:\\unistra\\unistra\\recherche\\ragbot\\env\\lib\\site-packages (from requests<3,>=2->langchain) (3.3.2)\n",
      "Requirement already satisfied: urllib3<3,>=1.21.1 in d:\\unistra\\unistra\\recherche\\ragbot\\env\\lib\\site-packages (from requests<3,>=2->langchain) (2.2.1)\n",
      "Requirement already satisfied: idna<4,>=2.5 in d:\\unistra\\unistra\\recherche\\ragbot\\env\\lib\\site-packages (from requests<3,>=2->langchain) (3.7)\n",
      "Requirement already satisfied: greenlet!=0.4.17 in d:\\unistra\\unistra\\recherche\\ragbot\\env\\lib\\site-packages (from SQLAlchemy<3,>=1.4->langchain) (3.0.3)\n",
      "Requirement already satisfied: mypy-extensions>=0.3.0 in d:\\unistra\\unistra\\recherche\\ragbot\\env\\lib\\site-packages (from typing-inspect<1,>=0.4.0->dataclasses-json<0.7,>=0.5.7->langchain) (1.0.0)\n"
     ]
    },
    {
     "name": "stderr",
     "output_type": "stream",
     "text": [
      "WARNING: You are using pip version 21.1.1; however, version 24.0 is available.\n",
      "You should consider upgrading via the 'd:\\unistra\\unistra\\recherche\\ragbot\\env\\scripts\\python.exe -m pip install --upgrade pip' command.\n"
     ]
    }
   ],
   "source": [
    "!pip install pypdf\n",
    "!pip install langchain_community\n",
    "!pip install langchain[docarray]\n",
    "!pip  install pydantic==1.10.9\n",
    "!pip install langchain\n",
    "\n",
    "\n"
   ]
  },
  {
   "cell_type": "code",
   "execution_count": 2,
   "metadata": {},
   "outputs": [],
   "source": [
    "import os\n",
    "#from dotenv import load_dotenv\n",
    "\n",
    "#load_dotenv()\n",
    "\n",
    "#OPENAI_API_KEY = os.getenv(\"OPENAI_API_KEY\")\n",
    "#MODEL = \"gpt-3.5-turbo\"\n",
    "#MODEL = \"mixtral:8x7b\"\n",
    "MODEL = \"llama3:8b\"\n",
    "MODEL = \"llama3:8b-instruct-q4_0\"\n"
   ]
  },
  {
   "cell_type": "code",
   "execution_count": 3,
   "metadata": {},
   "outputs": [],
   "source": [
    "from langchain_community.llms import Ollama\n",
    "from langchain_community.embeddings import OllamaEmbeddings\n",
    "\n",
    "#from langchain_openai.embeddings import OpenAIEmbeddings\n",
    "#from langchain_openai.chat_models import ChatOpenAI\n",
    "\n",
    "if MODEL.startswith(\"gpt\"):\n",
    "    model = ChatOpenAI(openai_api_key=OPENAI_API_KEY, model=MODEL)\n",
    "    embeddings = OpenAIEmbeddings()\n",
    "else:\n",
    "    model = Ollama(model=MODEL)\n",
    "    embeddings = OllamaEmbeddings(model=MODEL)\n",
    "\n",
    "#model.invoke(\"Tell me a joke\")"
   ]
  },
  {
   "cell_type": "code",
   "execution_count": 5,
   "metadata": {},
   "outputs": [],
   "source": [
    "#model.invoke(\"Raconte-moi une blague\")"
   ]
  },
  {
   "cell_type": "code",
   "execution_count": 4,
   "metadata": {},
   "outputs": [],
   "source": [
    "from langchain_core.output_parsers import StrOutputParser\n",
    "\n",
    "parser = StrOutputParser()\n",
    "\n",
    "chain = model | parser \n",
    "#chain.invoke(\"Tell me a joke\")"
   ]
  },
  {
   "cell_type": "code",
   "execution_count": 5,
   "metadata": {},
   "outputs": [
    {
     "data": {
      "text/plain": [
       "'\\nYou are an expert in ecology and environmental issues that speaks English and French. You will answer in French to questions from journalists during a press conference. Answer the question based on the context below. If you can\\'t \\nanswer the question, reply \"I don\\'t know\".\\n\\nContext: Here is some context\\n\\nQuestion: Here is a question\\n'"
      ]
     },
     "execution_count": 5,
     "metadata": {},
     "output_type": "execute_result"
    }
   ],
   "source": [
    "from langchain.prompts import PromptTemplate\n",
    "\n",
    "template = \"\"\"\n",
    "You are an expert in ecology and environmental issues that speaks English and French. You will answer in French to questions from journalists during a press conference. Answer the question based on the context below. If you can't \n",
    "answer the question, reply \"I don't know\".\n",
    "\n",
    "Context: {context}\n",
    "\n",
    "Question: {question}\n",
    "\"\"\"\n",
    "\n",
    "prompt = PromptTemplate.from_template(template)\n",
    "prompt.format(context=\"Here is some context\", question=\"Here is a question\")"
   ]
  },
  {
   "cell_type": "code",
   "execution_count": 6,
   "metadata": {},
   "outputs": [
    {
     "data": {
      "text/plain": [
       "'Bonjour ! Mon nom est Santiago.'"
      ]
     },
     "execution_count": 6,
     "metadata": {},
     "output_type": "execute_result"
    }
   ],
   "source": [
    "chain = prompt | model | parser\n",
    "\n",
    "chain.invoke({\"context\": \"My parents named me Santiago\", \"question\": \"What's your name'?\"})"
   ]
  },
  {
   "cell_type": "code",
   "execution_count": 7,
   "metadata": {},
   "outputs": [
    {
     "data": {
      "text/plain": [
       "[Document(page_content='DOCUMENT DE \\nRÉFÉRENCE POUR \\nLA RESTAURATION \\nDES ÉCOSYSTÈMES   \\n \\nUN GUIDE PRATIQUE POUR GUÉRIR  \\nLA PLANÈTE  \\ndecadeonrestoration.org Développé pour La Journée mondiale de l’environnement 2021\\nPour lancer la Décennie des Nations Unies pour la Restauration des Écosystèmes (2021-2030)', metadata={'source': 'ERP_FR.pdf', 'page': 0}),\n",
       " Document(page_content='2Introduction ................................................................................................. 3\\nPourquoi les écosystèmes sont-ils si importants .......................................... 5\\nComment rejoindre la #GénérationRestauration ............................................ 6\\nInformez-vous! ............................................................................................ 7\\nAction de restauration ................................................................................ 10\\n Principes et recommandations .................................................................... 10\\nÉcosystème par écosystème: les différents visages de la restauration ........ 11\\n Forêts et arbres ............................................................................................. 12\\n Rivières et lacs .............................................................................................. 13\\n Villes .............................................................................................................. 14\\n Océans et zones côtières .............................................................................. 15\\n Terres agricoles et prairies ........................................................................... 16\\n Montagnes .................................................................................................... 17\\n Tourbières ..................................................................................................... 18\\nLes choix de restauration ........................................................................... 19\\nFaites entendre votre voix en faveur de #GénérationRestauration ................ 20TABLE DES MATIÈRES', metadata={'source': 'ERP_FR.pdf', 'page': 1}),\n",
       " Document(page_content='3\\n© Cris van Wolffelaar  | Just DiggitIl faut aider la planète. L ’urgence climatique, la \\ndestruction de la nature et la pollution mortelle \\nmenacent de détruire notre espace vital et éliminer \\nplusieurs des millions d’espèces qui partagent cette \\nbelle planète avec nous. Mais cette dégradation n’est \\npas inévitable. Nous avons le pouvoir et la \\nconnaissance nécessaires pour renverser la menace et \\nrestaurer la Terre, si nous agissons maintenant.\\nC’est pour cette raison que les Nations Unies ont \\ndéclaré la Décennie pour la Restauration des \\nÉcosystèmes. À partir de la Journée mondiale de \\nl’environnement 2021, les particuliers et les groupes, \\nles gouvernements, les entreprises et les organisations \\nde tout genre, peuvent unir leurs forces dans un élan \\nmondial pour arrêter, réduire et inverser la dégradation \\ndes écosystèmes et garantir un avenir durable pour \\ntous.\\nDix années peuvent paraître longues. Mais c’est une \\ncourse de vitesse en réalité. À l’horizon 2030, nous \\ndevons réduire presque de moitié les émissions de gaz \\nà effet de serre pour éviter un changement climatique \\naux effets dévastateurs. Des progrès énormes sont \\nnécessaires pour atteindre les Objectifs de \\nDéveloppement Durable, partant de l’élimination de la \\npauvreté et la lutte contre les maladies, jusqu’à la \\nprotection de la biodiversité. Nous devons inverser la \\ncourbe de disparition de la biodiversité — une \\ntendance dangereuse qui pourrait conduire à \\nl’extinction d’un million d’espèces.\\nDes écosystèmes sains sont incontournables pour \\natteindre ces objectifs. Les restaurer est un défi important. Mais de plus en plus de personnes prennent \\nconscience que nous devons changer notre attitude et \\nagir en urgence pour protéger et reconstruire la nature \\npour le bien des générations futures et par amour pour \\nla planète dans laquelle nous vivons.\\nSi vous êtes prêt à rejoindre la \\n#GénérationRestauration , ce guide vous montrera \\ncomment. Il vous aidera à identifier les opportunités de \\nrestauration sur le terrain dans votre écosystème local \\net trouver des partenaires et du soutien. Il vous \\nmontrera également comment réduire la pression sur les écosystèmes en changeant ce que vous faites et ce \\nque vous achetez; et en encourageant chacun à \\nadopter une attitude sérieuse à l’égard de la durabilité.\\nApprenez-en davantage sur la Décennie des Nations \\nUnies sur www.decadeonrestoration.com  et sur les \\nréseaux sociaux avec #GénérationRestauration . Ce \\nmouvement est en marche!\\n INTRODUCTION', metadata={'source': 'ERP_FR.pdf', 'page': 2}),\n",
       " Document(page_content='4REJOIGNEZ LA #GÉNÉRATIONRESTAURATION POUR LA JOURNÉE  \\nMONDIALE DE L’ENVIRONNEMENT!\\nLa Décennie des Nations Unies pour la Restauration des \\nÉcosystèmes sera lancée lors de la Journée mondiale \\nde l’environnement 2021. Célébrée chaque année le 5 \\njuin, la Journée mondiale de l’environnement est la date \\nla plus importante du calendrier pour célébrer notre \\nenvironnement et intensifier les efforts mondiaux en \\nfaveur de la protection de la planète.\\nCette année, la Journée mondiale de l’environnement est \\ndédiée à la protection et la revitalisation des \\nécosystèmes précieux de par le monde. C’est donc le \\nmoment idéal pour rejoindre la #GénérationRestauration \\nqui impulsera un changement positif!\\nCE QUE VOUS POUVEZ FAIRE LORS DE LA \\nJOURNÉE MONDIALE DE L’ENVIRONNEMENT\\nCe guide est conçu pour vous aider à vous engager dans \\nla restauration des écosystèmes. Il présente trois voies \\npar lesquelles vous pouvez rejoindre le mouvement et \\naméliorer le bien-être des populations et de la nature : \\nagir, prendre de bonnes décisions et faire entendre votre \\nvoix en faveur de la restauration.\\nPourquoi ne pas s’engager sur l’une de ces voies – \\nsinon toutes – lors de la Journée mondiale de \\nl’environnement? Parcourez le guide et trouver comment \\nvous pouvez jouer un rôle dans la Décennie des Nations \\nUnies. Il y a des idées pour tout le monde, des \\nparticuliers, passant par les communautés et les \\norganisations, jusqu’aux entreprises et aux agences \\ngouvernementales.\\nLa Journée mondiale de l’environnement pourrait être le \\npoint de départ de votre ambitieux projet pluriannuel de \\nrestauration, le jour où vous décidez d’exclure tous les \\nproduits non-durables de votre vie, ou alors le moment \\noù vous vous joignez aux autres pour porter votre voix \\nen faveur de l’environnement.Vous pourrez par exemple agir comme suit :\\n• En annonçant un ambitieux projet de restauration ou  \\n une initiative politique, que ce soit à l’échelle locale,  \\n régionale ou nationale, dites au monde quel rôle  \\n vous allez jouer dans cet effort sur dix ans\\n• En devenant volontaire au sein d’un projet de   \\n restauration déjà existant\\n• En nettoyant un lac, une plage, un parc ou tout autre  \\n milieu naturel\\n• En rendant plus verts votre maison, votre entreprise,  \\n votre école ou votre espace public avec des espèces  \\n d’arbres ou de plantes indigènes \\nVous pouvez faire le bon choix :\\n• En faisant une promesse de don ou tout autre appui  \\n en faveur des initiatives de restauration ou de   \\n conservation\\n• En arrêtant l’achat des produits et services qui ne sont  \\n pas labellisés durables\\n• En commençant un nouveau régime alimentaire ou  \\n une nouvelle politique alimentaire basés sur des  \\n produits régionaux, durables et riches en plantes\\nVous pouvez faire entendre votre voix :\\n• En affichant ou en participant à une exposition   \\n d’affiches, de photos ou d’œuvres d’art mettant en  \\n avant la beauté des écosystème locaux\\n• En organisant une discussion sur la valeur des   \\n écosystèmes et les dangers qui les menacent\\n• En organisant une campagne sur internet pour attirer  \\n l’attention sur le changement climatique, la disparition  \\n de la nature et ce qui peut être fait pour inverser ces  \\n tendances \\n• En écrivant une lettre à votre journal local\\nQuoi que vous fassiez, célébrez le moment et faites-le \\nsavoir!  \\n Prenez des photos de vos activités de la Journée \\nmondiale de l’environnement et postez-les sur les \\nréseaux sociaux avec les mots clés \\n#GénérationRestoration et \\n#JournéeMondialeDelEnvironnement pour tirer le \\nmaximum de votre contribution au mouvement de \\nrestauration. Vous pouvez utiliser les ressources de \\nl’identité visuelle de la Décennie des Nations Unies sur \\nvotre site internet, vos réseaux sociaux ou les imprimer \\nsur vos T-shirts ou affiches. Pour en savoir plus, rendez-\\nvous sur notre guide de la marque.\\nBien que nous voulions tous célébrer la Journée \\nmondiale de l’environnement et la Décennie des Nations', metadata={'source': 'ERP_FR.pdf', 'page': 3}),\n",
       " Document(page_content='sur vos T-shirts ou affiches. Pour en savoir plus, rendez-\\nvous sur notre guide de la marque.\\nBien que nous voulions tous célébrer la Journée \\nmondiale de l’environnement et la Décennie des Nations \\nUnies, respectez toutes les restrictions relatives à la \\nCOVD-19 en vigueur où vous vivez et organisez des \\ndiscussions et des événements en ligne pour que \\nchacun soit protégé.\\nVoici certaines des considérations à avoir à l’esprit \\nlorsque vous planifiez vos célébrations : \\n• Allez sur le site officiel de la Journée mondiale de  \\n l’environnement pour avoir les dernières informations :  \\n https://www.worldenvironmentday.global/fr\\n• Utilisez le mot clé #GénérationRestauration pour  \\n apparaître sur notre agrégateur de réseaux sociaux:  \\n https://www.decadeonrestoration.org/follow-  \\n generationrestoration \\n• À partir de la mi-avril, vous pourrez enregistrer votre  \\n événement lié à la Journée mondiale de   \\n l’environnement sur le site officiel et découvrir ce que  \\n d’autres personnes prévoient organiser\\n• Dès le mois de mai, vous aurez accès à des   \\n ressources pour réseaux sociaux, des outils   \\n numériques interactifs et bien plus encore pour vous  \\n aider à faire connaître votre événement en vue de la  \\n journée du 5 juin et au delà', metadata={'source': 'ERP_FR.pdf', 'page': 3}),\n",
       " Document(page_content='5\\n© Bailey Zindell | UnsplashLes écosystèmes constituent la trame de la vie sur \\nterre. Un écosystème est constitué de tous les \\norganismes vivants et des interactions entre eux et \\navec leur environnement dans un milieu donné. Ils \\nexistent à tous les échelles, partant du moindre grain \\nde sol jusqu’à la planète toute entière, et ils \\ncomprennent les forêts, les cours d’eau, les zones \\nhumides, les prairies, les estuaires et les récifs \\ncoralliens. Les villes et les terrains agricoles \\ncontiennent des écosystèmes modifiés par l’homme.\\n \\nLes écosystèmes nous procurent des avantages \\ninestimables. Parmi ces bénéfices nous avons un \\nclimat stable et un air respirable; la fourniture en eau, \\nen nourriture et en matériaux de toutes sortes; et la \\nprotection contre les catastrophes et les maladies. \\nLes écosystèmes naturels sont importants pour \\nnotre santé physique et mentale, et pour notre \\nidentité. Ils abritent une faune précieuse. Nombreux \\nles considèrent comme une source de merveilles et \\nde spiritualité.\\n \\nPartout dans le monde, les écosystèmes font face à \\nde sérieuses menaces. Des forêts sont détruites, des \\nrivières et des lacs sont pollués, les zones humides \\net les tourbières sont drainées, les côtes et les \\nocéans sont dégradés et subissent la surpêche, les \\nsols montagneux sont érodées, et les terres agricoles \\net les prairies sont surexploitées.\\n \\nÀ moins que nous changions nos attitudes et \\nrestaurions nos écosystèmes, nous ne ferons pas \\nque détruire les paysages que nous aimons, nous \\nmettrons également en péril les fondations de notre \\npropre bien-être et lèguerons une planète dégradée \\net inhospitalière aux générations futures.POURQUOI LES  \\nÉCOSYSTÈMES SONT-ILS \\nSI IMPORTANTS', metadata={'source': 'ERP_FR.pdf', 'page': 4}),\n",
       " Document(page_content='6COMMENT REJOINDRE LA #GÉNÉRATIONRESTAURATION\\nACTIONS\\nDémarrez votre propre initiative \\nsur le terrain, rejoignez une \\ninitiative de restauration ou de \\nconservation déjà existante, ou \\nparticipez à la construction \\nd’une alliance pour donner une \\nplus forte impulsion au retour de \\nla nature. Restaurer des écosystèmes signifie protéger leur \\nbiodiversité et les aider à apporter des avantages aux \\npopulations et à la nature. Cela signifie utiliser les \\nécosystèmes terrestres et marins de façon à renforcer \\nleurs ressources et leurs processus naturels. Les \\nactions en faveur de la restauration peuvent aussi \\nsignifier prévenir la dégradation ou en réduire le \\nniveau et l’étendue.\\nVoici trois bonnes façons de vous engager:\\nCHOIX\\nChangez votre comportement et \\nvos habitudes de dépense pour \\nréduire considérablement \\nl’empreinte environnementale \\nlocale et mondiale ; et rediriger \\nles ressources vers des \\nentreprises et des activités qui \\nredonnent vie à la nature au lieu \\nde la détruire. Encouragez les \\npersonnes autour de vous à VOIX\\nFaites que votre voix et vos \\nidées comptent lors des débats \\nsur la gestion de votre \\nenvironnement local et sur \\ncomment nous pouvons rendre \\nnos sociétés et nos économies \\nplus équitables et plus \\ndurables. Poussez les décideurs \\nà faire ce qu’il faut. \\nMais avant de vous engager sur l’une des trois voies:', metadata={'source': 'ERP_FR.pdf', 'page': 5}),\n",
       " Document(page_content='73. SACHEZ QUELLE RÉPONSE APPORTER. \\nUne fois que vous avez identifié un écosystème \\ndégradé et compris pourquoi il est menacé, ré -\\nfléchissez sur comment vous pouvez renverser la \\nsituation. Qu’est-ce qui doit changer? Comment \\npouvez-vous amener ce changement? Quelles sont \\nles ressources à ta disposition? Qui peut apporter \\nson aide? Soyez ambitieux, mais aussi réaliste et \\ngarder à l’esprit que la restauration d’un écosystème \\npeut prendre du temps. Même les petites actions \\ncomptent et chaque contribution est importante! \\nUne autre façon de s’éduquer sur la restauration \\navant de vous engager sur votre propre projet c’est \\nen faisant du volontariat auprès d’une organisation \\nenvironnementale locale ou à travers un portail \\nmondial : \\n• Ecosystem Restoration Camps donne l’opportunité  \\n aux militants à l’échelle locale et mondiale de se r \\n assembler et travailler ensemble à la restauration  \\n d’un écosystème, un camp à la fois. Les camps  \\n respectent les réglementations locales anti-  \\n COVID-19 dans leurs activités. \\n• Y’a-t-il des campagnes de restauration près de  \\n chez vous que vous pouvez rejoindre? \\n© Chad Scott | Conservation Diver2. MAÎTRISEZ LES CAUSES DE LA \\nDÉGRADATION. \\nIl peut y avoir des causes directes telles que la \\nconversion en terres agricoles ou en zone industri -\\nelle; ou la pollution. Mais les facteurs sous-jacents \\npeuvent être plus importants. Ces causes indirectes \\npeuvent être des forces du marché telles que la \\ndemande en produits fauniques, les facteurs sociaux \\ntels que la pauvreté, ou des problèmes de gouvern -\\nance tels que le désaccord sur l’usage des ressourc -\\nes ou la mauvaise application des règles. Y apporter \\ndes solutions pourrait nécessité des changements \\ndans la politique publique ou les pratiques commer -\\nciales.Ayez une bonne compréhension des écosystèmes qui \\ncomptent pour vous, ce qui cause vraiment leur \\ndéclin et comment vous pouvez réellement les aider \\nà se rétablir. En particulier:INFORMEZ-VOUS!\\n1. MAÎTRISEZ VOS ÉCOSYSTÈMES LOCAUX.  \\nQuels types d’écosystèmes sont-ils? Vous pouvez \\ntrouver les principaux types sur le site de la  \\nDécennie des Nations Unies. Lesquels ont plus de \\nvaleur aux yeux de la population? Dans quel état \\nsont-ils et comment cela a-t-il changé? Souven -\\nez-vous que des proches et des voisins avec une \\nlongue expérience peuvent vous donner autant \\nd’informations que des livres ou des rapports.', metadata={'source': 'ERP_FR.pdf', 'page': 6}),\n",
       " Document(page_content='8Les particuliers, groupes et organisations peuvent \\nrejoindre  la #GénérationRestauration par le biais de \\nl’une ou toutes des trois voies. Mais toutes les \\ninitiatives doivent reposer sur les réalités locales et \\ncertaines stratégies pourraient être plus adaptées que \\nd’autres. Voici comment vous pourrez envisager vos \\nprochaines étapes.UTILISEZ VOS ATOUTS\\nPARTICULIERS\\nVos habitudes et choix de consommateur sont entre \\nvos mains alors, faites le bon choix et persuadez vos \\namis et collègues à rejoindre le mouvement. \\nParticipez et prenez la parole lors des discussions \\npubliques et privées portant sur l’amélioration de \\nl’environnement local. Rejoignez, faites un don ou \\ndevenez volontaire au sein d’une organisation qui \\nprotège et restaure la nature. Renseignez-vous sur les \\nécosystèmes locaux et ce qui les met en danger. \\nRestaurez votre propre balcon, votre bord de route, \\nvotre cour ou votre jardin en plantant des arbres et en \\nfaisant du compostage, c’est aussi un écosystème!\\nCHEF RELIGIEUX ET GROUPES RELIGIEUX\\nBeaucoup de religions ont des enseignements clairs \\nsur la protection de la nature. Faites-en la promotion \\npendant les sermons et les discussions. Lancez des \\nprojets de restauration qui feront appel à \\nl’engagement et aux talents des différents membres \\ndu groupe. Rendez plus écologiques toutes les \\npropriétés et les terres contrôlées par la communauté, \\ny compris les lieux de culte et de mémoire. Inspirez \\nvous de ce que les autres groupes religieux  font déjà. \\nENTREPRISES\\nAppliquez vos compétences professionnelles et \\nressources financières à un projet de restauration qui \\nbénéficie à votre localité ou à la zone d’impact de votre \\nentreprise. Travaillez avec votre équipe sur le choix ou \\nla conception du projet. Établissez des liens avec des \\nentreprises qui ont la même vision pour en accroître la \\nportée. Rendez plus écologiques vos politiques \\nd’achat, de production et de distribution pour réduire l’empreinte de vos produits et opérations. Restaurez \\nles fonctions de l’écosystème dans vos locaux.\\nTRAVAILLEURS ET SYNDICATS\\nLancez et menez des initiatives locales et nationales \\npour restaurer des écosystèmes qui sont importants \\npour les travailleurs et les syndicalistes et demander \\nle soutien des employeurs. Militez pour la protection \\ndes travailleurs dont les sources de revenus et la santé \\npourraient être menacés par la dégradation de \\nl’écosystème. \\nENSEIGNANTS\\nInformez vos élèves au sujet des écosystèmes, de la \\ndurabilité et des risques de déclin de l’environnement \\npour qu’ils deviennent les futurs gardiens de \\nl’écosystème. Appliquez les concepts avec des projets \\nde restauration dans l’enceinte de l’école et la \\ncommunauté locale, par exemple, vous pouvez \\nentretenir des arbres, utiliser du compost, adopter un \\nécosystème local et prévenir la pollution. Utilisez les \\nvoyages scolaires pour démontrer la valeur des \\nécosystèmes sains. One Tree Planted’s curriculum \\nvous donne des idées sur l’enseignement de la \\nrestauration, de l’école primaire à l’université. \\nGROUPES DE JEUNES\\nDéfendez votre avenir en faisant entendre vos voix \\npour que les décideurs entendent l’appel à la \\nprotection et la restauration des écosystèmes. \\nOrganisez vous-mêmes ces discussions et invitez les \\nexperts des questions environnementales à parler au \\ngrand public pour qu’on prenne plus conscience des \\nbienfaits de la restauration. Passez des paroles aux', metadata={'source': 'ERP_FR.pdf', 'page': 7}),\n",
       " Document(page_content='9actes en faisant du volontariat collectif pour travailler \\nactivement dans des projets de restauration ou \\nconcevez et implémentez le vôtre.\\nORGANISATIONS DE LA SOCIÉTÉ CIVILE\\nMenez une enquête auprès de vos membres sur les \\npriorités en terme de protection et de restauration de \\nl’écosystème dans votre zone. Trouvez quelles \\ncompétences vous avez à disposition dans votre \\néquipe. Décidez où vous aurez le plus grand impact : \\nlancer ou accompagner un projet? Présentez des \\noptions de politique savamment pensées aux \\ndirigeants politiques pour qu’ils agissent? On \\norganiser une campagne d’éducation? Rejoignez une \\nalliance ou construisez-en une. Établissez le lien entre \\nvotre travail et la santé de nos écosystèmes, \\ndirectement ou indirectement. Faites confiance en \\nvotre expertise et nouez des relations.  \\nVILLES ET AUTORITÉS LOCALES\\nTout en engageant vos propres actions de \\nrestauration, vous pouvez permettre et accompagner \\nles initiatives de restauration portées par le secteur \\nprivé et la société civile, particulièrement celles \\nmenées sur des terrains publics. Vous pouvez être une \\nvoix qui porte à l’échelle locale en faveur de la \\nrestauration et créer des plateformes permettant aux \\nautres d’amplifier le message. Les marchés publics \\nsont un autre puissant outil de promotion de la \\ndurabilité. Les recherches ont montré que de petits \\nchangements – tels que la tonte moins intensive des \\npelouses urbaines – augmente la biodiversité et réduit \\nles dépenses. AGRICULTEURS ET ÉLEVEURS\\nEn tant que gardiens des terres, vous avez une \\nresponsabilité et une opportunité toute particulière \\nd’entretenir et de restaurer nos écosystèmes. Tout en \\nessayant de mettre en pratique les approches de \\nrestauration des terres agricoles et des prairies \\nindiquées plus loin, vous pouvez collaborer avec \\nd’autres acteurs pour restaurer des paysages entiers \\ncomprenant différents écosystèmes, à la fois naturels \\net modifiés.\\nPOPULATIONS INDIGÈNES\\nSi vous vivez sur vos terres ancestrales, vous avez une \\nresponsabilité unique – et généralement beaucoup \\nd’expérience – dans la gestion de la durabilité de vos \\nterres. Prenez en compte ce que la connaissance \\nindigène pourrait apporter à une plus large échelle \\npour protéger et restaurer les écosystèmes; et utilisez \\nles plateformes associées à la Décennie des Nations \\nUnies pour faire passer le message et nouer des \\nalliances pour une gestion plus juste de \\nl’environnement.\\nFEMMES\\nLa surexploitation et la dégradation des écosystèmes \\nsont souvent liées aux inégalités, dont des restrictions \\ninjustes à l’accès et au contrôle des ressources \\nnaturelles à l’égard des femmes. Élaborez vos projets \\nde restauration en y intégrant des étapes pour \\nl’élimination de l’exclusion et de la discrimination à \\nl’égard des femmes et d’autres groupes désavantagés, \\npour que les bénéfices du développement durables \\nprofitent à tous.  #GénérationRestauration  et \\n#GénérationÉgalité  vont de pair : The Girls Scouts a \\nlancé un guide pour  impliquer les jeunes filles dans la \\nplantation des arbres.  GOUVERNEMENTS\\nCréez les conditions pour la réussite de la Décennie \\ndes Nations Unies en concevant et en mettant en \\nœuvre des politiques économiques et des structures \\nde gouvernance qui améliorent la gestion de \\nl’environnement et le financement des projets de \\nrestauration sur le terrain. Rejoignez l’avant-garde des \\nefforts mondiaux pour combattre le changement \\nclimatique, la disparition de la biodiversité et la \\ndégradation des terres. Prenez des mesures \\naudacieuses et engagez des actions ambitieuses non \\nseulement pour arrêter, mais aussi pour inverser les \\ntendances destructrices actuelles. Concevez des \\nmécanismes de subvention, des politiques fiscales et \\ndes programmes de relance  post-COVID-19 pour \\nstimuler la restauration des écosystèmes. Faites \\npassez des marchés pour accélérer le passage vers la \\ndurabilité.\\nSCIENTIFIQUES\\nApprofondissez notre compréhension de l’importance', metadata={'source': 'ERP_FR.pdf', 'page': 8}),\n",
       " Document(page_content='stimuler la restauration des écosystèmes. Faites \\npassez des marchés pour accélérer le passage vers la \\ndurabilité.\\nSCIENTIFIQUES\\nApprofondissez notre compréhension de l’importance \\ndes écosystèmes, les menaces auxquelles ils font \\nface, et développez des solutions à partir des données \\nprovenant des sciences sociales et naturelles. \\nApportez votre expertise aux initiatives de restauration \\net faites un suivi de leurs impacts pour mieux adapter \\nnos réponses. Utilisez les innovations technologiques \\n– de la télédétection à l’intelligence artificielle – pour \\nnous aider à mieux suivre les effets de la restauration \\nsur les écosystèmes.', metadata={'source': 'ERP_FR.pdf', 'page': 8}),\n",
       " Document(page_content='10ACTION DE RESTAURATION\\n© Cris van Wolffelaar | Just DiggitPRINCIPES ET RECOMMANDATIONS\\nAlors, vous voulez mettre la main à la pâte?  Il faudra \\nd’abord préparer votre crayon, parce qu’une \\nrestauration effective nécessite une planification \\nminutieuse. Ne vous inquiétez pas : les experts en \\nrestauration à travers le monde ont élaboré des \\nprincipes, des normes et des guides qui peuvent vous \\naider. Voici trois principes applicables à tous les \\nprojets:1. IMPLIQUER TOUT LE MONDE\\nInformez et consultez tous ceux qui seront affectés \\npar le projet. Appréciez et apprenez à partir de \\ndifférentes perspectives sur la nature et ses \\navantages. Tenir compte des connaissances et des \\nintérêts des autres peut vous permettre de gagner de \\nnouveaux soutiens de poids pour votre projet et \\nréduire les oppositions.\\n2. FIXER DES OBJECTIFS ET ÉVALUER LA \\nPROGRESSION\\nSur la base de ce que vous aurez appris sur \\nl’écosystème que vous souhaitez protéger ou \\nrestaurer, déterminez vos objectifs sur une période \\ndonnée, avec peut-être des objectifs intermédiaires. \\nTrouvez des indicateurs mesurables qui vous diront si \\nvous faites des progrès ou s’il faille procéder à des \\najustements.3. AIDER LA NATURE À S’AIDER\\nNous ne pouvons pas toujours remettre des \\nécosystèmes dégradés dans leurs états initiaux, mais \\nnous pouvons faire en sorte qu’ils fonctionnent d’une \\nmanière plus naturelle et durable. Ainsi, les projets \\ndoivent soutenir des processus naturels, tels que le \\ncycle des éléments nutritifs, et donner la priorité aux \\nespèces végétales et fauniques indigènes, au lieu \\nd’introduire des espèces étrangères au paysage, ce \\nqui entraîne souvent des effets néfastes.\\nVoici d’autres principes détaillés de restauration des \\nécosystèmes:\\nDécouvrez les principes et normes internationales  de \\nla Société Internationale de Restauration Écologique. \\nLe rapport conjoin t du Partenariat Mondial sur la \\nRestauration des Paysages Forestiers comprend des \\nprincipes partagés (p.14) pouvant être appliqués à \\nplusieurs écosystèmes. Les principes de restauration \\ndes zones humides de l’Agence de protection de \\nl’environnement des États-Unis peuvent également \\nêtre utilisés.\\nAvez vous un gestionnaire de projet expérimenté dans \\nvotre équipe? Si non, consultez les principes de \\ndéveloppement et de gestion des projets de la Société \\nInternationale de Restauration Écologique et ces \\nétapes élaborées par Restore America’s Estuaries \\npour le bon développement du projet.', metadata={'source': 'ERP_FR.pdf', 'page': 9}),\n",
       " Document(page_content='11Nous allons à présent plonger dans les profondeurs de \\nsept écosystèmes. Mais ne soyez pas intimidé, \\nchacun peut mener des actions en fonction de chaque \\nécosystème. Informez-vous sur ceux qui vous tiennent \\nà cœur et découvrez ce que vous pouvez faire.ÉCOSYSTÈME PAR ÉCOSYSTÈME: LES DIFFÉRENTS VISAGES DE LA \\nRESTAURATION\\nFORÊTS ET ARBRES RIVIÈRES ET LACS VILLES MONTAGNES TOURBIÈRES OCÉANS ET ZONES CÔTIÈRES TERRES AGRICOLES ET PRAIRIES', metadata={'source': 'ERP_FR.pdf', 'page': 10}),\n",
       " Document(page_content='12FORÊTS ET ARBRES\\nLe forêts et les arbres nous procurent un air pur et de \\nl’eau, capturent de larges quantités de gaz à effet de \\nserre et abrite la majorité de la biodiversité de notre \\nplanète. Ils procurent nourriture et fourrage, source \\nd’énergie et matériaux et permettent à des milliards de \\npersonnes de gagner leur vie.\\nMais les écosystèmes forestiers subissent une forte \\npression due à la croissance démographique et la \\ndemande en terres et en ressources. De vastes \\nétendues de forêts tropicales sont détruites en faveur \\nde la culture du palmier à huile et l’élevage bovin par \\nexemple. Les forêts restantes sont dégradées par \\nl’exploitation forestière, la coupe du bois de \\nchauffage, la pollution et les organismes ravageurs \\nenvahissants. Les arbres en dehors des forêts font \\ntrès vite place aux habitations, aux infrastructures et à \\nl’agriculture plus intensive.\\nLa restauration des écosystèmes forestiers implique \\nreboisement des anciennes forêts, y compris les \\ncampements et les zones agricoles; et l’amélioration \\ndes conditions des forêts dégradées. Voici quelques \\nfaçons de mettre fin au saignement de nos forêts et \\nreverdir les terres.• Planter des arbres: La plantation des arbres est une  \\n activité de restauration simple et très populaire.  \\n Vous pouvez rajoutez des arbres à un jardin, un  \\n espace public, une plantation, un paysage et même  \\n sur l’ensemble du pays. La plantation sélective peut  \\n revitaliser une forêt qui a été dégradée par une  \\n surexploitation. Mais il ne suffit pas juste de mettre  \\n des graines en terre. De nombreux arbres mourront  \\n s’ils ne sont pas protégés ou arrosés. Les   \\n populations participeront à cette tâche si elles sont  \\n impliquées dans le projet – en aidant à choisir le lieu  \\n et les espèces à planter – et s’ils espèrent en   \\n bénéficier. Les arbres fruitiers locaux, par exemple,  \\n promettent de délicieuses retombées. Gardez   \\n toujours à l’esprit qu’il ne suffit pas juste de planter  \\n des arbres, mais de les cultiver. Et ce doit être le bon  \\n arbre, au bon endroit et au bon moment. Planter des  \\n espèces qui ne sont pas adaptées aux conditions  \\n locales peut causer des problèmes, par exemple si  \\n les espèces « gourmandes en eau » sont plantées  \\n dans des zones arides. Ces vingt innovations pour   \\n un trillion d’arbres  pourraient vous inspirer pour  \\n réussir la plantation d’arbres. \\n• Aider à la régénération naturelle: cette stratégie de  \\n restauration à moindre coût comprend la création  \\n des conditions pour les arbres indigènes de germer  \\n ou de repousser de façon naturelle. Cela peut   \\n signifier l’exclusion des animaux qui pourraient se  \\n nourrir des jeunes pousses et retirer les autres  \\n végétaux, en particulier les espèces envahissantes  \\n qui pourront être en compétition avec les jeunes  \\n arbres pour la lumière et l’eau. Cela pourrait aussi  \\n revenir à trouver des accords au niveau   \\n communautaire pour la protection des forêts et des  \\n arbres et leur gestion durable pour éviter que les  \\n nouveaux arbres ne soient à nouveau abattus. Le  \\n concept de «ré-ensauvagement»  devient de plus en  \\n plus populaire en Europe et d’autres endroits, où il y  \\n a la possibilité de réintroduire les espèces qui   \\n avaient disparues. Vous trouverez davantage   \\n d’informations sur  rewilding academy.  • Restauration des paysages forestiers:  des projets  \\n bien dotés en ressources peuvent garantir des  \\n retombés de restauration en considérant un   \\n paysage dans son ensemble. Une échelle plus large  \\n peut faciliter un équilibre entre divers intérêts, par  \\n exemple, en soutenant l’agriculture durable dans  \\n certaines zones pour réduire la pression sur la forêts  \\n et permettre aux arbres de repousser sur les terres  \\n marginales; ou en trouvant des accords pour   \\n protéger les forêts qui fournissent de l’eau potable  \\n aux populations et à la nature.  La restauration des  \\n paysages forestiers  représente une grande', metadata={'source': 'ERP_FR.pdf', 'page': 11}),\n",
       " Document(page_content='protéger les forêts qui fournissent de l’eau potable  \\n aux populations et à la nature.  La restauration des  \\n paysages forestiers  représente une grande   \\n opportunité pour les différents décideurs de   \\n qu’il s’agisse des entreprises, des agences   \\n gouvernementales et des groupes locaux. Ensemble,  \\n ils peuvent développer une vision commune pour  \\n leur paysage. \\nApprenez-en davantage:\\nUn cours intensif de plantation des arbres le site \\ninternet de la Décennie des Nations Unies. Lisez \\nl’article sur  la régénération naturelle des plantes \\ncontrôlée par les agriculteurs  en Afrique de l’Ouest. Le \\nModèle de Restauration des Paysages Forestiers de la \\nFAO donne une introduction aux bonnes pratiques \\npour les initiatives à grande échelle. \\nLa plateforme Restor  nouvellement lancée vous \\npermet d’accéder à des données sur l’écologie au \\nniveau du site, pour montrer le couvert végétal actuel \\nou potentiel, quelles espèces végétales existent et \\ncombien peut-on potentiellement éliminer en terme de \\ncarbone. Un pôle de reforestation  répertorie les \\nopportunités de planter des arbres – et leur \\nopportunités en terme de captage de carbone – à \\ntravers les États-Unis.', metadata={'source': 'ERP_FR.pdf', 'page': 11}),\n",
       " Document(page_content='13RIVIÈRES ET LACS\\nLes écosystèmes d’eau douce procurent de la \\nnourriture, de l’eau et de l’énergie à des milliards de \\npersonnes; nous protègent des sécheresses et des \\ninondations; et constituent un habitat unique pour un \\ngrand nombre de plantes et d’animaux, dont un tiers \\nde toutes les espèces de vertébrés.\\n \\nCes écosystèmes sont particulièrement dégradés. Ils \\nsont pollués par les produits chimiques, le plastique \\net les eaux usées de même que par la surpêche et la \\nsurextraction de l’eau. Ils deviennent des lieux de \\ndéveloppement immobilier et de loisir. Les \\ncanalisations et l’extraction du sable et du gravier les \\ndégradent davantage. Les zones humides sont \\ndrainées pour l’agriculture, avec 87 pour cent déjà \\nperdues à l’échelle mondiale. Un tiers des espèces \\nvivant en eau douce sont menacées d’extinction. \\nSeul un tiers des plus grands fleuves du monde \\nrestent à l’état sauvage.  Les autres sont obstrués par \\ndes barrages et autres infrastructures qui rendent \\ndifficile le déplacement des poissons et autres \\nespèces animales.\\n \\nLa protection et la restauration des écosystèmes \\nd’eau douce reviendrait à améliorer la qualité de \\nl’eau, contrôler l’usage de ces écosystèmes et des \\nterres adjacentes et arrêter ou inverser les \\nmodifications anthropiques aux processus naturels. \\nVoici certains éléments qui peuvent faire partie d’un \\nplan de restauration.• Les assainir: ramassez toutes les ordures jetées ou  \\n échouées sur les rivages pour que les populations  \\n puissent apprécier le paysage et en prennent mieux  \\n soin. S’il ressemble à un dépotoir, les populations  \\n le traiteront comme tel!\\n• Réguler l’accès:  créez des points d’accès   \\n consensuels et faciles d’utilisation, par exemple  \\n pour que les animaux puissent s’abreuver, que les  \\n bateaux puissent accoster ou pour que les gens  \\n puissent nager et se détendre. Cela permettra de  \\n protéger les végétations fragiles, l’habitat des  \\n oiseaux et les frayères; et réduire l’érosion aux  \\n abords de l’étendue d’eau.\\n• Restaurer la végétation: plantez des espèces   \\n indigènes pour restaurer les riches habitats le long  \\n des rivières et des lacs, créez des couloirs pour la  \\n faune et créez une zone tampon entre l’eau et les  \\n sources de pollution telles que les industries et les  \\n plantations situées à proximité; retirez les espèces  \\n étrangères envahissantes. Saviez-vous que 40 %  \\n des poissons se nourrissent d’insectes? En   \\n Australie,  un mouvement de pêcheurs et de   \\n pêcheurs récréatifs  reboise les abords des rivières  \\n pour faire revenir les poissons. \\n• Faire un plan durable: élaborez des plans de pêche  \\n et de récolte qui ne réduise pas la quantité d’eau,  \\n de poissons ou d’autres ressources; réduisez et  \\n traitez les eaux usées, empêchez que les produits  \\n chimiques polluants, les déchets industriels et  \\n autres effluents ne se retrouvent dans l’eau; trouver  \\n des accords ou donnez des primes pour réduire  \\n l’usage de produits phytosanitaires sur les terres  \\n adjacentes. L ’azote présente dans les engrais peut   \\n être l’une des plus grandes menaces pour les  \\n écosystèmes aquatiques. \\n• Protéger et restaurer la nature: à l’échelle du   \\n paysage, cherchez à trouver un large consensus  \\n sur la classification des écosystèmes d’eau douce  \\n importants en zones protégées; retirez les barrages  \\n et autres infrastructures qui ne sont plus   \\n nécessaires pour rétablir le cours naturel de la   rivière; militez pour l’interdiction du développement  \\n immobilier, du dragage ou de l’activité minière sur  \\n les zones sensibles. \\nApprenez-en davantage:\\nInspirez-vous de la partie ‘Adoptez une rivière’ de ce \\nmanuel du Rotary Club . Consultez ce manuel  \\ntechnique  du River Restoration Centre au Royaume-\\nUni ou bien découvrez la science de la restauration \\ndes cours d’eau dans cet article académique.  \\nDécouvrez les efforts de restauration des lacs en  \\nInde.', metadata={'source': 'ERP_FR.pdf', 'page': 12}),\n",
       " Document(page_content='14• Rendre les espaces publics plus verts:  concevez et  \\n soutenez des initiatives de restauration des cours  \\n d’eau et des zones humides, plantez des arbres  \\n indigènes et créez des forêts urbaines et autres  \\n habitats fauniques le long des routes, des chemins  \\n de fer et dans les espaces publics. Amenez les  \\n entreprises locales à apporter des financements et  \\n de l’expertise. Des fois, les meilleurs efforts sont  \\n fournis gratuitement : Le ré-ensauvagement des  \\n espaces publics à travers la pratique moins   \\n régulière de la tonte du gazon et la coupe des arbres  \\n attirent les insectes, les oiseaux, les papillons et  \\n même des mammifères vers la ville. \\n• Des citoyens pour la durabilité: militez pour une  \\n planification urbaine durable, y compris la   \\n restauration des sites à l’abandon ou contaminés,  \\n l’inclusion des espaces verts dans les nouveaux  \\n projets immobiliers et des réseaux de transport  \\n public solides. Face au changement climatique, de  \\n plus en plus de citoyens s’engagent dans les   \\n initiatives « adopte un arbre » qui permet de   \\n s’assurer que les arbres – les jeunes arbres avec  \\n des racines peu profondes en particulier – sont  \\n arrosées pendant les périodes de sécheresse. Les  \\n outils numériques tels que les applications peuvent  \\n accompagner ces efforts à travers le suivi et la  \\n coordination des contributions individuelles. \\n• Un micro-écosystème à la fois: assurez la gestion  \\n de votre propre  jardin, cour, lieu de travail ou école,  \\n quelle qu’en soit la taille, de façon à redonner vie à  \\n la nature, ou bien assurez l’entretien d’un arbre en  \\n bordure de route. Plantez des espèces indigènes,  \\n lancez des micro-forêts urbaines dense  set faites  \\n du compostage. Amener les autres à faire de même.  \\n Mis ensemble, un vaste mouvement de micro-  \\n restauration peut améliorer grandement l’écologie  \\n et le caractère vivable de toute une ville.Apprenez-en davantage :\\nConsultez des pôles d’idées et d’initiatives pour la \\nrestauration urbaines tels que Urban Nature Atlas, \\nl’initiative CitiesWithNature  et la plateforme Nature \\ndes Villes . Inspirez-vous du Mexique qui souhaite \\ncréer  un vaste nouveau parc dans la capitale, ou des \\ntoitures vertes  de la ville néerlandaise de Utrecht. \\nCopiez les indicateurs du manuel  d’entretien des \\narbres de rue de la ville de New York. L ’initiative SUGi \\nProjects’ inspire de la méthode Miyawaki et montre \\ncomment des gens ordinaires peuvent devenir des \\ncréateurs de forêts urbaines – du Royaume-Uni à \\nl’Inde, du Cameroun au Liban. VILLES\\nLes zones urbaines occupent moins de 1% de la \\nsurface des terres émergées de la planète, mais \\nabritent plus de la moitié de sa population. Malgré leur \\nacier et leur béton, leurs foules et leur trafic, les villes \\nrestent des écosystèmes dont la condition marque \\nprofondément la qualité de notre vie. Des \\nécosystèmes urbains fonctionnels permettent de \\npurifier l’air et l’eau, de rafraîchir les îlots de chaleur; \\nils nous protègent des dangers et représentent des \\nespaces de détente et de loisir. Ils peuvent aussi \\naccueillir une quantité surprenante de biodiversité.\\nLes écosystèmes urbains sont souvent très dégradés. \\nUne mauvaise planification recouvre les sols et laisse \\ntrès peu d’espace à la végétation. Les déchets et les \\némissions des industries, du trafic et des ménages \\npolluent les cours d’eau, les sols et l’air. L ’urbanisation \\nanarchique dévore de plus en plus l’habitat faunique. \\nMais les autorités, les communautés et les habitants \\ndes villes peuvent utiliser la restauration pour tirer des \\navantages à la fois environnementaux, sociaux et \\nculturels. Voici certaines approches prometteuses.', metadata={'source': 'ERP_FR.pdf', 'page': 13}),\n",
       " Document(page_content='15OCÉANS ET ZONES CÔTIÈRES\\nLes océans et les mers couvrent plus de 70 % de la \\nplanète. Ces écosystèmes régulent notre climat et \\ngénèrent la majorité de l’oxygène que nous respirons. \\nIls soutiennent des secteurs économiques clés tels \\nque le tourisme et la pêche. Et ils abritent une \\nbiodiversité qui va des baleines au plancton, dans des \\nhabitats qui vont des récifs ensoleillés aux océans \\npolaires.\\nMais les océans et les zones côtières font face à de \\ngrandes menaces. Des millions de tonnes de nos \\ndéchets plastiques mettent en danger des créatures \\ntelles que les oiseaux marins, les tortues et les crabes. \\nLe changement climatique entraîne la destruction des \\nrécifs coralliens et nous détruisons des mangroves \\npour la pisciculture et d’autres activités. La surpêche \\nmet en danger la quantité de poisson disponible, la \\npollution des nutriment crée des zones mortes et nous \\ndéversons environ 80 % de nos eaux usées sans les \\ntraiter.\\nNous pouvons restaurer les océans et les zones \\ncôtières en réduisant les pressions qu’ils subissent \\npour qu’ils puissent se rétablir, à la fois de façon \\nnaturelle et avec notre aide. Nous devons rendre ces \\nécosystèmes et ces communautés plus résilientes \\nface aux changements mondiaux. Voici de quelles \\nmanières nous pouvons aider.• Assainir: mobilisez des personnes de tous les âges  \\n pour collecter les quantités d’ordures ménagères et  \\n de matériel de pêche abandonné qui échouent sur  \\n nos plages et nos berges. Recyclez le plastique et  \\n autres matériaux pour les éloigner des décharges.  \\n Arrêtez d’utiliser des produits plastiques dont vous  \\n pouvez vous passer. Faites attention aux microbilles  \\n et microplastiques dissimulés dans les produits!  \\n Plus les gens y participent, plus on prend   \\n conscience de la nécessité de réduire les déchets et  \\n comment les éliminer de façon effective.\\n• Restaurer la végétation au dessus et en dessous de  \\n l’eau:  protégez et restaurez les écosystèmes côtiers  \\n tels que les marais salés, les mangroves, les récifs  \\n coralliens, les herbiers marins et les bancs de   \\n crustacés pour accroître leur diversité et leurs   \\n habitats de même que les avantages que nous en  \\n tirons. Tous les écosystèmes sont complexes, il faut  \\n ainsi rechercher l’assistance d’un expert pour votre  \\n localité. Saviez-vous par exemple que  les herbiers   \\n marins conservaient 18 % du carbone océanique,  et  \\n sont 35 fois plus rapides que les forêts tropicales  \\n dans cet exercice? Ils sont aussi des aires   \\n d’alimentation essentielles pour les hippocampes et  \\n les lamantins, qui ne survivraient pas en leur   \\n absence. Cherchez à avoir une bonne connaissance  \\n de l’océan et des zones côtières de votre localité et  \\n contribuez à rétablir ce qui les rend spéciaux. \\n• Faire bon usage des océans: rassemblez les   \\n communautés, les autorités et autres parties   \\n prenantes pour s’accorder sur comment rendre les  \\n développements côtiers et océaniques, de même  \\n que la pêche, plus durables, par exemple, en créant  \\n des zones protégées et en décidant de l’accès aux  \\n ressources. Si les communautés de pêcheurs se  \\n mettent ensemble et prennent des décisions   \\n communes sur les zones protégées et les zones de  \\n pêche dans leurs eaux, les hommes et la nature en  \\n bénéficient. Utilisez les citoyens scientifiques pour  \\n suivre l’impact de la dégradation et les bienfaits de  \\n la restauration.Apprenez-en davantage:\\nAidez la campagne CleanSeas à i nverser la tendance \\ndu plastique. Consultez le manuel de restauration des \\nrécifs de l’Initiative internationale pour les récifs \\ncoralliens et la base de données mondiale de la \\nrestauration. Regardez ce projet de  restauration des \\nherbiers marins  au Royaume-Uni ou ce guide pratique \\nsur la restauration des gisements naturels d’huîtres. \\nDemandez les conseils d’un expert pour votre \\nécosystème et votre localité sur le site de la Société \\ninternationale pour la restauration écologique.', metadata={'source': 'ERP_FR.pdf', 'page': 14}),\n",
       " Document(page_content='16TERRES AGRICOLES ET PRAIRIES\\nLes terres agricoles et les prairies sont peut-être nos \\nécosystèmes les plus vitaux. En plus de nous fournir \\nde la nourriture, du fourrage et des fibres, les terres \\narables et les pâturages abritent une étonnante variété \\nd’organismes allant des chauves-souris aux oiseaux, \\njusqu’aux scarabées et aux vers, de même qu’un \\ncouvert végétal considérable. Marqués par des siècles \\nd’effort et d’ingéniosité humaine, ces écosystèmes \\nsont des héritages culturels dont la protection a une \\nportée à la fois spirituelle et économique.\\nMais malheureusement, la façon dont nous exploitons \\nnombreux de ces espaces les rend moins viables. Le \\nlabour intensif et la monoculture, le surpâturage et le \\nretrait des haies et des arbres causent la dégradation \\ndu sol et de la végétation. L ’usage excessif des \\nproduits chimiques en agriculture entraîne la pollution \\ndes cours d’eau et met en danger la faune, y compris \\nles abeilles qui assurent la pollinisation des cultures.\\nNous pouvons restaurer les écosystèmes ruraux en \\nutilisant la nature pour booster la productivité et la \\nsanté des sols ; et améliorer la gestion des terres. \\nVoici quelques options pour les agriculteurs et les \\néleveurs.• Investir dans la nature: réduisez le travail du sol et  \\n utilisez des méthodes naturelles de lutte  \\n anti-parasitaire et des engrais naturels sur les terres  \\n arables, pour renforcer la santé de votre sol et les  \\n rendements de vos cultures tout en réduisant   \\n l’érosion et le besoin en produits chimiques.\\n• Croire en la diversité: Cultivez plus d’arbres et une  \\n plus grande variété de cultures associé à l’élevage  \\n pour renforcer davantage la santé du sol, diversifier  \\n les sources de revenu et donner un meilleur habitat  \\n pour la faune. Planter des fleurs aux abords des  \\n terres agricoles peut fournir de précieux « points  \\n d’alimentation » pour les abeilles et autres   \\n pollinisateurs. \\n• Conserver les pâturages entiers:  en élevage intensif  \\n et en savane, protégez les zones le long des rivières  \\n où les nutriments et l’accès à l’eau sont abondants  \\n pour qu’elles ne deviennent pas des terres agricoles.  \\n Sans elles, des zones moins productives sont   \\n difficiles à utiliser de manière durable. \\n• Utiliser le pâturage de façon durable: accordez-vous  \\n sur des régimes de pâturage pour éviter la   \\n surexploitation, l’érosion des sols, et l’invasion des  \\n pâturage par les arbustes et les espèces étrangères.  \\n Restaurez les zones déjà dégradées en abattant la  \\n végétation ligneuse et en réintroduisant les herbes  \\n indigènes.\\n• Ramener les espèces indigènes:  réintroduisez les  \\n plantes, les arbres et les animaux éradiqués et  \\n protégez-les de la prédation et de la chasse jusqu’à  \\n leur établissement complet.Ressources:\\nL ’initiative greener.LAND a conçu un guide visuel des \\ntechniques de restauration des terres. La World \\nOverview of Conservation Approaches and \\nTechnologies a des centaines de méthodes de \\nprotection et de restauration des terres agricoles, des \\npâturages et d’autres écosystèmes dans sa Base de \\ndonnées mondiale sur la gestions durable des terres. \\nLa plateforme PANORAMA rassemble des solutions \\nqui ont fait leurs preuves pour un certain nombre \\nd’écosystèmes – y compris des idées sur comment \\naugmenter la biodiversité en agriculture.', metadata={'source': 'ERP_FR.pdf', 'page': 15}),\n",
       " Document(page_content='17MONTAGNES\\nLes montagnes abritent la plupart des points chauds \\nde biodiversité de la planète et fournissent de l’eau \\ndouce pour environ la moitié de l’humanité. Ils \\ncomprennent une multitude d’écosystèmes qui \\nabritent des espèces uniques telles que les léopards \\ndes neiges et les gorilles de montagne, de même \\nqu’une grande diversité culturelle parmi les peuples \\nqui on su s’adapter aux défis de la vie en montagne.\\nLes régions montagneuses sont particulièrement \\nsensibles à la dégradation résultant des pressions \\nhumaines et du changement climatique. Les pentes \\nraides démontrent comment la destruction de la forêt \\npeut causer une sérieuse érosion et la disparition de \\nl’habitat. Le changement climatique et la pollution \\nmenace la fourniture en eau aux plantations, aux \\nvilles, aux industries et aux centrales électriques. La \\nhausse des températures force les espèces, les \\nécosystèmes et les populations qui en dépendent de \\ns’adapter ou de migrer.\\nLa restauration des écosystèmes de montagnes \\nrevient à considérer l’ensemble du paysage. Bon \\nnombre des activités de restauration qui figurent dans \\nce guide peuvent également s’appliquer aux \\nmontagnes. Voici quelques exemples.• Restaurer les boucliers forestiers:  restaurez et  \\n replantez les forêts et les arbres pour protéger le sol,  \\n sauvegarder les cours d’eau et se protéger contre  \\n les catastrophes naturelles telles que les   \\n avalanches, les glissements de terrain et les   \\n inondations.\\n• Limiter l’extraction et l’excavation:  Notre soif de  \\n ressources peut avoir des conséquences   \\n catastrophiques pour les montagnes et les flancs de  \\n collines. Rassurez-vous de la restauration effective  \\n des paysages à la fin des opérations d’exploitation  \\n minière. \\n• Permettre aux écosystèmes de migrer: créez ou  \\n connectez des aires protégées sur différentes   \\n altitudes pour que les espèces et les écosystèmes  \\n puissent migrer en fonction de l’évolution du climat.\\n• Adopter une agriculture résiliente:  faites le   \\n promotion et adoptez les techniques agricoles  \\n durables, à l’exemple de l’agroforesterie, qui   \\n restaurent les sols et la biodiversité et qui peuvent  \\n être plus résilientes face au changement climatique  \\n et aux conditions climatiques extrêmes.\\n• Tirer profit des expériences: tirez parti de la   \\n connaissance locale et indigène afin de maintenir un  \\n usage durable des ressources naturelles.Ressources:\\nLisez cet aperçu sur comment les écosystèmes sains \\nréduisent les risques de catastrophe dans les zones \\nmontagneuses. Bon nombre des techniques de \\nrestauration évoquées dans ce guide peuvent \\négalement être appliquées aux écosystèmes de \\nmontagne.', metadata={'source': 'ERP_FR.pdf', 'page': 16}),\n",
       " Document(page_content='18TOURBIÈRES\\nBien que ne représentant que 3 pour cent des terres de \\nla planète, les tourbières retiennent près de 30 pour \\ncent de son carbone du sol. Elles contrôle la fourniture \\nen eau et protège contre les inondations et les \\nsécheresses. Elles fournissent également de la \\nnourriture et une source d’énergie à de nombreuses \\npopulations. Elles abritent également des plantes et \\ndes animaux uniques à ces environnements humides.\\nMalgré leur importance, les tourbières de par le \\nmonde sont drainées au profit de l’agriculture, du \\ndéveloppement infrastructurel, de l’exploitation \\nminière et de l’exploration pétrolière et gazière. Les \\ntourbières sont également dégradées par le feu, le \\nsurpâturage, la pollution à l’azote et l’extraction de la \\ntourbe comme combustible et comme terreau.\\nPour éviter un changement climatique dangereux, \\nnous devons maintenir le carbone des tourbières où il \\nse trouve: dans le sol. En même temps, nous devons \\nrehumidifier et restaurer les tourbières drainées et \\ndégradées. Voici quelques manières de s’y prendre.• Protéger les tourbières: incorporez ces écosystèmes  \\n sensibles dans les zones protégées pour éviter leur  \\n drainage, leur conversion et leur surexploitation.\\n• Endiguer les drains:  protégez les tourbières en  \\n fermant les canaux de drainage et en ralentissant le  \\n débit de l’eau, par exemple en mettant des rochers  \\n dans les ravins et les ruisseaux et en plantant des  \\n arbres le long des berges.\\n• Accélérer la restauration:  plantez des espèces   \\n végétales adaptées aux tourbières, telles que les  \\n herbes indigènes et les mousses, afin de booster  \\n leur régénération naturelle.\\n• Limiter les pressions:  en dehors des zones   \\n protégées, travaillez avec les parties prenantes pour  \\n un usage durable des tourbières, par exemple   \\n comme zone de pâturage intensif. Faites la   \\n promotion des sources d’énergie alternatives pour  \\n  réduire la demande en tourbes comme combustible.\\nRessources:\\nL ’ International Mire Conservation Group a conçu un \\nguide de restauration des tourbières et une collection \\nd’études de cas qui peuvent vous donner quelques \\nidées sur les actions à mener dans les tourbières.', metadata={'source': 'ERP_FR.pdf', 'page': 17}),\n",
       " Document(page_content='19Tout en renforçant les écosystèmes, donnons leur du \\nrépit. C’est notre empreinte environnementale à tous \\nqui dégrade la nature. Nous pouvons réduire cette \\nempreinte en changeant ce que nous faisons, ce que \\nnous consommons et les déchets que nous générons. \\nVoici comment vous pouvez réduire votre impact \\npersonnel et permettre aux écosystèmes de rebondir.SOYEZ PLUS ÉCOLOGIQUE\\nQue vous soyez un particulier ou une organisation, \\nchoisissez les biens et services avec un éco-label \\ncrédible. C’est une récompense pour les entreprises \\nqui fabriquent des produits recyclés, réduisent le \\nconditionnement et respectent les normes \\nenvironnementales et sociales par exemple. Achetez \\nauprès des fournisseurs locaux pour réduire l’impact \\nenvironnemental du transport et soutenez les produits \\nagricoles adaptés aux écosystèmes locaux. Soyez \\ncréatif en inspirant les autres à aider les plantes \\nlocales à prospérer! Des Boules de semences , comme \\ncelles-ci au Kenya, constituent un formidable moyen \\nd’aider les population à être plus écologiques. Mais \\nrassurez-vous de choisir les bons semis pour le bon \\nmoment et le bon endroit. \\nVIVEZ PLUS LÉGER\\nAvez-vous vraiment besoin de nouveaux vêtements et \\ngadgets? Votre famille et vos amis veulent-ils plus de \\ncadeaux? Ne peut-on pas aller en vacances ou \\norganiser les réunions professionnelles plus près de la \\nmaison? Les confinements liés à la COVID-19 ont \\nmontré à plus d’un qu’ils pouvaient bien vivre en \\nconsommant et en voyageant moins. Vous pouvez \\naussi réduire votre consommation des ressources en \\nachetant des articles de seconde main et en réparant, \\nen partageant et en prêtant plus. Suivez le principe du \\n« réutiliser, recycler, refuser » lorsque vous prenez des \\ndécisions. \\nALIMENTEZ-VOUS CORRECTEMENT\\nPour la plupart des gens sur cette planète, cela revient \\nà: manger moins de viande et de produits laitiers et réduire la gaspillage alimentaire. Privilégiez les \\nproduits locaux qui nécessite moins de \\nconditionnement et de transport. Alimentez-vous au \\nrythme des saisons et selon les régions : Trouvez \\nquels fruits et plantes sont cultivés près de chez vous \\net à quel moment de l’année. Plusieurs organisations \\nont conçu des calendriers créatifs qui permettent de \\ndécider sur quoi et quand manger. Vous n’en trouvez \\npas? Concevez-le vous même! Des régimes à base de \\nvégétaux sont moins demandeurs en terres et peuvent \\nêtre bénéfiques pour votre santé. Optez pour les \\nproduits biologiques pour combattre la dégradation de \\nnos écosystèmes agricoles et d’eau douce par les \\npesticides et les engrais. Introduisez vos données sur \\nle planet-based diet calculator  du WWF pour voir quels \\nimpacts vos habitudes alimentaires ont sur les \\nécosystèmes de la planète.\\nFINANCER LA RESTAURATION\\nFaites des dons aux organisations et aux \\ncommunautés impliquées dans la restauration des \\nécosystèmes et souscrivez pour recevoir les dernières \\ninformations sur leurs projets. Vérifiez leur crédibilité \\net leur historique avant de donner le moindre sous. \\nInformez-vous sur comment elles s’assurent de la \\nsurvie des arbres et autres plantes , comment elles \\nimpliquent les communautés locales, si elles créent \\npeut-être des emplois et d’autres avantages au \\npassage, et que deviendront leurs efforts dans l’avenir. \\nSi vous avez de l’argent à investir, dirigez-le vers des \\nfonds d’investissement certifiés écologiques ou des \\nbanques écologiques qui investissent sur la durabilité. \\nLa plateforme Terramatch , par exemple, est conçue \\npour connectez les investisseurs à des projets de \\nrestauration qui ont besoin de financements. LES CHOIX DE RESTAURATION\\n© Kadir van Lohuizen / NOOR', metadata={'source': 'ERP_FR.pdf', 'page': 18}),\n",
       " Document(page_content='20La Décennie des Nations Unies pour la Restauration \\ndes Écosystèmes sera un succès si les gens se \\nmettent ensemble à l’échelle communautaire, \\nnationale et pour un mouvement mondial. Tout en \\nvous engageant dans des efforts de restauration sur le \\nterrain et en prenant la responsabilité de votre impact \\npersonnel sur l’environnement, vous pouvez passer le \\nmessage sur comment des écosystèmes sains sont \\nfondamentaux au bien-être de l’homme ; et qu’il y a \\nbeaucoup que nous pouvons tous faire pour les \\nprotéger.\\nCeci est vital parce que la reconstruction des \\nécosystèmes nécessite la participation de tous et \\npartout. Il est aussi crucial de créer un élan politique \\npour la restauration, parce que plusieurs des causes \\nsous-jacentes des dégradations doivent être traitées à \\nl’échelle nationale ou internationale. Par exemple, \\nseuls les gouvernements peuvent changer des \\npolitiques économiques néfastes, établir des réseaux \\nde zones protégées et freiner la pollution et le \\nchangement climatique.\\nLes dirigeants politiques et autre décideurs qui \\ncomprennent ce défis peuvent prendre des mesures \\ncourageuses s’ils se savent soutenus par des millions \\nde personnes. Devenez donc un défenseurs des \\nécosystèmes et faites que #GénérationRestauration  \\ndevienne un mouvement qui transforme le future de \\nnotre planète. Voici comment vous pouvez amplifier le \\nmessage lors de la Journée mondiale de \\nl’environnement et chaque jour au cours de la \\nprochaine décennie:\\nRENDEZ LA RESTAURATION VIRALE\\nQue vous soyez un gouvernement, un groupe, une \\nentreprise ou un particulier, annoncez votre \\nengagement ou initiative en faveur de la restauration \\nsur les réseaux sociaux avec le hashtag #GénérationRestauration.  Prenez part aux \\ndiscussions sur internet au sujet de la restauration et \\npubliez les photos et les actualités de vos réalisation.\\nSOYEZ CRÉATIF\\nOrganisez un concert, peignez une fresque, organisez \\nune exposition ou emmenez les gens en excursion \\ndans un écosystème menacé pour marquer la Journée \\nmondiale de l’environnement et célébrer la \\n#GénérationRestauration.  Si les restriction liées à la \\nCOVID-19 rendent impossible les événements et les \\nrassemblement publics, vous pourrez peut-être \\norganiser vos événements en ligne.\\nMARQUEZ LES ESPRITS\\nOrganisez une campagne ou une mobilisation éclair \\npour appeler à la restauration d’un écosystème qui \\nvous tient à cœur. Ce pourrait être la zone humide tout \\nprès de chez vous ou une forêt tropicale lointaine. \\nUtilisez l’identité visuelle  de la Décennie des Nations \\nUnies  et les ressources pour réseaux sociaux pour \\ndonner un poids et une signification mondiale à votre \\nmessage.  \\nINSUFFLEZ LA FIBRE ÉCOLOGIQUE À VOS \\nPROCHES\\nDemandez à vos amis, parents et collègues ce qu’ils \\napprécient sur les écosystèmes locaux et discuter de \\nce qui peut être fait pour améliorer les choses. \\nEncouragez-les à apprendre davantage sur les \\nécosystèmes et leurs avantages et à rejoindre la \\n#GénérationRestauration.\\nFAITES ENTENDRE VOTRE VOIX\\nPrenez part aux forums et consultations publics, aux \\nprogrammes et débats radiophoniques interactifs sur \\nla gestion et l’amélioration de l’environnement local. \\nPrenez la parole en public et en privé pour un usage durable des ressources pour le bien de tous et celui \\ndes générations futures.\\nUTILISEZ VOTRE VOTE\\nSoutenez les parties politiques et les dirigeant qui ont \\ndes engagements fermes pour la restauration, le \\ndéveloppement durable et la justice sociale, en \\nparticulier s’ils ont tenu leurs promesses de combattre \\nla dégradation de l’environnement par le passé. \\nDemandez des comptes à vos dirigeants – votre \\ngouvernement national ou régional a-t-il pris des \\nengagements en faveur de la restauration? Si oui, les \\na-t-il tenu? Les activités de restauration étaient-elles \\nd’une qualité qui a pu bénéficier aux populations et \\naux écosystèmes? Ou alors vos dirigeants pourraient-\\nils faire plus et mieux dans l’avenir? \\nREJOIGNEZ-NOUS', metadata={'source': 'ERP_FR.pdf', 'page': 19}),\n",
       " Document(page_content='d’une qualité qui a pu bénéficier aux populations et \\naux écosystèmes? Ou alors vos dirigeants pourraient-\\nils faire plus et mieux dans l’avenir? \\nREJOIGNEZ-NOUS\\nDevenez membre d’une organisation ou d’un \\nmouvement politique ayant une influence sur la \\ngestion de nos écosystèmes. Travaillez pour faire \\navancer les ambitions et les actions visant à contrer la \\ndégradation de l’environnement et ses conséquences \\nsociales. Le  site internet de la Décennie des Nations \\nUnies  sera une plateforme digitale qui connectera les \\ninitiatives de restauration de par le monde. \\nQuoi que vous fassiez pour passer le message et faire \\navancer la restauration des écosystèmes, vous pouvez \\nutiliser  l’identité visuelle  de la Décennie des Nations \\nUnies sur votre site internet, vos réseaux sociaux, ou \\nles imprimer sur des T-shirts ou sur une affiche sur \\nvotre site de restauration. Pour en savoir plus, rendez-\\nvous sur notre guide de la marque.FAITES ENTENDRE VOTRE VOIX EN FAVEUR DE LA #GÉNÉRATIONRESTAURATIONSEA ECOLÓGICO(A)', metadata={'source': 'ERP_FR.pdf', 'page': 19}),\n",
       " Document(page_content='21Protéger ce que nous avons et guérir ce que nous \\navons endommagé est une tâche bien titanesque pour \\nêtre menée par une seule entité. Elle nécessite un \\nmouvement. Elle nécessite votre participation. \\nNotre voyage ne fait que commencer. Au cours des dix \\nprochaines années, la Décennie des Nations Unies \\npour la Restauration des Écosystèmes rassemblera \\nles gouvernements, les entreprises, les scientifiques \\net les universitaires, ainsi que tous les citoyens \\nconcernés pour restaurer notre planète. \\nNous espérons que ce document de référence peut \\nvous aider à faire vos premiers pas dans ce voyage.\\nL ’avez-vous trouvé utile? Le partageriez-vous avec \\nautour de vous? Quelles améliorations pouvons-nous \\ny apporter? Écrivez-nous à restorationdecade@un.org  \\nMERCI À TOUTE L’ÉQUIPE DU PNUE.VOTRE AVIS EST IMPORTANT\\nSupported by', metadata={'source': 'ERP_FR.pdf', 'page': 20})]"
      ]
     },
     "execution_count": 7,
     "metadata": {},
     "output_type": "execute_result"
    }
   ],
   "source": [
    "from langchain_community.document_loaders import PyPDFLoader\n",
    "\n",
    "loader = PyPDFLoader(\"ERP_FR.pdf\")\n",
    "pages = loader.load_and_split()\n",
    "pages"
   ]
  },
  {
   "cell_type": "code",
   "execution_count": 8,
   "metadata": {},
   "outputs": [],
   "source": [
    "from langchain_community.vectorstores import DocArrayInMemorySearch\n",
    "\n",
    "vectorstore = DocArrayInMemorySearch.from_documents(pages, embedding=embeddings)"
   ]
  },
  {
   "cell_type": "code",
   "execution_count": 9,
   "metadata": {},
   "outputs": [
    {
     "data": {
      "text/plain": [
       "[Document(page_content='11Nous allons à présent plonger dans les profondeurs de \\nsept écosystèmes. Mais ne soyez pas intimidé, \\nchacun peut mener des actions en fonction de chaque \\nécosystème. Informez-vous sur ceux qui vous tiennent \\nà cœur et découvrez ce que vous pouvez faire.ÉCOSYSTÈME PAR ÉCOSYSTÈME: LES DIFFÉRENTS VISAGES DE LA \\nRESTAURATION\\nFORÊTS ET ARBRES RIVIÈRES ET LACS VILLES MONTAGNES TOURBIÈRES OCÉANS ET ZONES CÔTIÈRES TERRES AGRICOLES ET PRAIRIES', metadata={'source': 'ERP_FR.pdf', 'page': 10}),\n",
       " Document(page_content='sur vos T-shirts ou affiches. Pour en savoir plus, rendez-\\nvous sur notre guide de la marque.\\nBien que nous voulions tous célébrer la Journée \\nmondiale de l’environnement et la Décennie des Nations \\nUnies, respectez toutes les restrictions relatives à la \\nCOVD-19 en vigueur où vous vivez et organisez des \\ndiscussions et des événements en ligne pour que \\nchacun soit protégé.\\nVoici certaines des considérations à avoir à l’esprit \\nlorsque vous planifiez vos célébrations : \\n• Allez sur le site officiel de la Journée mondiale de  \\n l’environnement pour avoir les dernières informations :  \\n https://www.worldenvironmentday.global/fr\\n• Utilisez le mot clé #GénérationRestauration pour  \\n apparaître sur notre agrégateur de réseaux sociaux:  \\n https://www.decadeonrestoration.org/follow-  \\n generationrestoration \\n• À partir de la mi-avril, vous pourrez enregistrer votre  \\n événement lié à la Journée mondiale de   \\n l’environnement sur le site officiel et découvrir ce que  \\n d’autres personnes prévoient organiser\\n• Dès le mois de mai, vous aurez accès à des   \\n ressources pour réseaux sociaux, des outils   \\n numériques interactifs et bien plus encore pour vous  \\n aider à faire connaître votre événement en vue de la  \\n journée du 5 juin et au delà', metadata={'source': 'ERP_FR.pdf', 'page': 3}),\n",
       " Document(page_content='DOCUMENT DE \\nRÉFÉRENCE POUR \\nLA RESTAURATION \\nDES ÉCOSYSTÈMES   \\n \\nUN GUIDE PRATIQUE POUR GUÉRIR  \\nLA PLANÈTE  \\ndecadeonrestoration.org Développé pour La Journée mondiale de l’environnement 2021\\nPour lancer la Décennie des Nations Unies pour la Restauration des Écosystèmes (2021-2030)', metadata={'source': 'ERP_FR.pdf', 'page': 0}),\n",
       " Document(page_content='5\\n© Bailey Zindell | UnsplashLes écosystèmes constituent la trame de la vie sur \\nterre. Un écosystème est constitué de tous les \\norganismes vivants et des interactions entre eux et \\navec leur environnement dans un milieu donné. Ils \\nexistent à tous les échelles, partant du moindre grain \\nde sol jusqu’à la planète toute entière, et ils \\ncomprennent les forêts, les cours d’eau, les zones \\nhumides, les prairies, les estuaires et les récifs \\ncoralliens. Les villes et les terrains agricoles \\ncontiennent des écosystèmes modifiés par l’homme.\\n \\nLes écosystèmes nous procurent des avantages \\ninestimables. Parmi ces bénéfices nous avons un \\nclimat stable et un air respirable; la fourniture en eau, \\nen nourriture et en matériaux de toutes sortes; et la \\nprotection contre les catastrophes et les maladies. \\nLes écosystèmes naturels sont importants pour \\nnotre santé physique et mentale, et pour notre \\nidentité. Ils abritent une faune précieuse. Nombreux \\nles considèrent comme une source de merveilles et \\nde spiritualité.\\n \\nPartout dans le monde, les écosystèmes font face à \\nde sérieuses menaces. Des forêts sont détruites, des \\nrivières et des lacs sont pollués, les zones humides \\net les tourbières sont drainées, les côtes et les \\nocéans sont dégradés et subissent la surpêche, les \\nsols montagneux sont érodées, et les terres agricoles \\net les prairies sont surexploitées.\\n \\nÀ moins que nous changions nos attitudes et \\nrestaurions nos écosystèmes, nous ne ferons pas \\nque détruire les paysages que nous aimons, nous \\nmettrons également en péril les fondations de notre \\npropre bien-être et lèguerons une planète dégradée \\net inhospitalière aux générations futures.POURQUOI LES  \\nÉCOSYSTÈMES SONT-ILS \\nSI IMPORTANTS', metadata={'source': 'ERP_FR.pdf', 'page': 4})]"
      ]
     },
     "execution_count": 9,
     "metadata": {},
     "output_type": "execute_result"
    }
   ],
   "source": [
    "retriever = vectorstore.as_retriever()\n",
    "retriever.invoke(\"restauration d'écosystèmes\")"
   ]
  },
  {
   "cell_type": "code",
   "execution_count": 10,
   "metadata": {},
   "outputs": [],
   "source": [
    "from operator import itemgetter\n",
    "\n",
    "chain = (\n",
    "    {\n",
    "        \"context\": itemgetter(\"question\") | retriever,\n",
    "        \"question\": itemgetter(\"question\"),\n",
    "    }\n",
    "    | prompt\n",
    "    | model\n",
    "    | parser\n",
    ")"
   ]
  },
  {
   "cell_type": "code",
   "execution_count": 11,
   "metadata": {},
   "outputs": [
    {
     "name": "stdout",
     "output_type": "stream",
     "text": [
      "Question: Qu'est-ce que la restauration d'écosystèmes ?\n",
      "Answer: Bonjour ! Selon les informations fournies, la restauration d'écosystèmes concerne l'effort collectif pour réduire les pressions exercées sur les océans et les zones côtières, afin qu'ils puissent se rétablir naturellement et avec notre aide. Il s'agit de restaurer la végétation au-dessus et en dessous de l'eau, protéger et restaurer les écosystèmes côtiers tels que les marais salés, les mangroves, les récifs coralliens, les herbiers marins et les bancs de crustacés.\n",
      "\n",
      "Cela implique également de réduire les déchets plastiques, de promouvoir une agriculture résiliente et d'utiliser des techniques durables pour restaurer les sols et la biodiversité. Enfin, il est important de rendre ces écosystèmes et ces communautés plus résilientes face aux changements mondiaux.\n",
      "\n",
      "En somme, la restauration d'écosystèmes consiste à réduire les pressions exercées sur les océans et les zones côtières pour permettre leur rétablissement naturel et avec notre aide.\n",
      "\n",
      "Question: Quels sont les avantages des écosystèmes ?\n",
      "Answer: Selon le document, les écosystèmes marins conservent 18% du carbone océanique et sont 35 fois plus rapides que les forêts tropicales dans leur capacité à absorber le carbone. Ils sont également des aires d'alimentation essentielles pour certaines espèces, telles que les hippocampes et les lamantins.\n",
      "\n",
      "En outre, les écosystèmes de montagnes abritent la plupart des points chauds de biodiversité de la planète et fournissent de l'eau douce pour environ la moitié de l'humanité. Ils comprennent une multitude d'écosystèmes qui abritent des espèces uniques.\n",
      "\n",
      "En résumé, les écosystèmes sont importants car ils :\n",
      "\n",
      "* Conservent le carbone océanique\n",
      "* Sont des aires d'alimentation essentielles pour certaines espèces\n",
      "* Abritent la biodiversité de la planète\n",
      "* Fournissent de l'eau douce pour l'humanité\n",
      "* Comprent une multitude d'écosystèmes qui abritent des espèces uniques\n",
      "\n",
      "Il est donc important de protéger et restaurer ces écosystèmes pour maintenir la santé de la planète.\n",
      "\n",
      "Question: Comment les entreprises peuvent aider aux écosystèmes ?\n",
      "Answer: Une excellente question !\n",
      "\n",
      "Selon mes connaissances en écologie et en environnement, les entreprises peuvent aider aux écosystèmes de plusieurs manières :\n",
      "\n",
      "1. **Adopter une agriculture résiliente** : Les entreprises agricoles peuvent adopter des techniques durables telles que l'agroforesterie, qui restaurent les sols et la biodiversité, et sont plus résilientes face au changement climatique et aux conditions climatiques extrêmes.\n",
      "2. **Tirer profit des expériences** : Les entreprises peuvent tirer parti de la connaissance locale et indigène pour maintenir un usage durable des ressources naturelles.\n",
      "\n",
      "En ce qui concerne les océans et les zones côtières, les entreprises peuvent aider en :\n",
      "\n",
      "1. **Assainissant** : Mobiliser des personnes pour collecter les déchets ménagères et le matériel de pêche abandonné sur les plages et les berges. Recyclez le plastique et autres matériaux pour les éloigner des décharges.\n",
      "2. **Restaurant la végétation au dessus et en dessous de l'eau** : Protégez et restaurez les écosystèmes côtiers tels que les marais salés, les mangroves, les récifs coralliens, les herbiers marins et les bancs de crustacés pour accroître leur diversité et leurs habitats.\n",
      "3. **Faire bon usage des océans** : Rassemblez les communautés, les autorités et autres parties prenantes pour s'accorder sur comment rendre les développements côtiers et océaniques plus durables.\n",
      "\n",
      "En résumé, les entreprises peuvent aider aux écosystèmes en adoptant des pratiques durables, en tirant parti de la connaissance locale et indigène, et en restaurant les écosystèmes naturels.\n",
      "\n",
      "Question: Qui a publié les principes de développement et de gestion des projets ?\n",
      "Answer: Selon le document, il n'y a pas mention explicite d'un auteur ou d'une organisation qui a publié les principes de développement et de gestion des projets. Cependant, le document est intitulé \"Guide de restauration écologique\" (ERP) et est probablement issu d'une organisation internationale ou nationale travaillant sur la conservation et la restauration de l'environnement.\n",
      "\n",
      "Question: What is the goal of Terramatch?\n",
      "Answer: Based on the provided document, Terramatch is not explicitly mentioned as a specific organization or initiative. However, according to the text, the goal of the Décennie des Nations Unies pour la Restauration des Écosystèmes (United Nations Decade of Restoration) is to restore ecosystems and involve governments, businesses, scientists, universities, and citizens in this effort over the next 10 years.\n",
      "\n",
      "It seems that Terramatch might be a initiative or project mentioned earlier in the document, but it's not clear from the provided text. If you could provide more context or clarify what you mean by \"Terramatch\", I'd be happy to try and help you further!\n",
      "\n"
     ]
    }
   ],
   "source": [
    "questions = [\n",
    "    \"Qu'est-ce que la restauration d'écosystèmes ?\",\n",
    "    \"Quels sont les avantages des écosystèmes ?\",\n",
    "    \"Comment les entreprises peuvent aider aux écosystèmes ?\",\n",
    "    \"Qui a publié les principes de développement et de gestion des projets ?\",\n",
    "    \"What is the goal of Terramatch?\",\n",
    "]\n",
    "\n",
    "for question in questions:\n",
    "    print(f\"Question: {question}\")\n",
    "    print(f\"Answer: {chain.invoke({'question': question})}\")\n",
    "    print()"
   ]
  },
  {
   "cell_type": "code",
   "execution_count": null,
   "metadata": {},
   "outputs": [],
   "source": [
    "chain.batch([{\"question\": q} for q in questions])"
   ]
  },
  {
   "cell_type": "code",
   "execution_count": 13,
   "metadata": {},
   "outputs": [
    {
     "name": "stdout",
     "output_type": "stream",
     "text": [
      "La réponse à votre question ! 😊\n",
      "\n",
      "PNUE signifie \" Programme des Nations Unies pour l'environnement\". Il s'agit d'un programme de l'Organisation des Nations Unies (ONU) qui vise à promouvoir la conservation et la mise en valeur de l'environnement.\n",
      "\n",
      "Dans ce contexte, le document ERP_FR.pdf semble être un guide sur la restauration écologique, notamment pour les écosystèmes de montagnes et les zones côtières. Le programme PNUE est donc peut-être une organisation qui a créé ce guide pour aider à restaurer l'environnement et à préserver la biodiversité.\n",
      "\n",
      "Si vous avez des questions spécifiques sur le contenu du document ou sur la restauration écologique en général, n'hésitez pas à me demander ! 😊"
     ]
    }
   ],
   "source": [
    "for s in chain.stream({\"question\": \"Qu'est-ce que ça veut dire PNUE ?\"}):\n",
    "    print(s, end=\"\", flush=True)"
   ]
  },
  {
   "cell_type": "code",
   "execution_count": null,
   "metadata": {},
   "outputs": [],
   "source": [
    "# from langchain_community.document_loaders import WebBaseLoader\n",
    "# from langchain_text_splitters import RecursiveCharacterTextSplitter\n",
    "\n",
    "# loader = WebBaseLoader(\"https://www.ml.school\")\n",
    "# docs = loader.load()\n",
    "# documents = RecursiveCharacterTextSplitter(\n",
    "#     chunk_size=1000, chunk_overlap=200\n",
    "# ).split_documents(docs)\n",
    "\n",
    "# documents"
   ]
  },
  {
   "cell_type": "code",
   "execution_count": 110,
   "metadata": {},
   "outputs": [],
   "source": []
  }
 ],
 "metadata": {
  "kernelspec": {
   "display_name": ".venv",
   "language": "python",
   "name": "python3"
  },
  "language_info": {
   "codemirror_mode": {
    "name": "ipython",
    "version": 3
   },
   "file_extension": ".py",
   "mimetype": "text/x-python",
   "name": "python",
   "nbconvert_exporter": "python",
   "pygments_lexer": "ipython3",
   "version": "3.9.5"
  }
 },
 "nbformat": 4,
 "nbformat_minor": 2
}
