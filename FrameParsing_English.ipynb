{
 "cells": [
  {
   "cell_type": "code",
   "execution_count": 2,
   "metadata": {},
   "outputs": [
    {
     "name": "stdout",
     "output_type": "stream",
     "text": [
      "Collecting frame-semantic-transformerNote: you may need to restart the kernel to use updated packages.\n"
     ]
    },
    {
     "name": "stderr",
     "output_type": "stream",
     "text": [
      "  error: subprocess-exited-with-error\n",
      "  \n",
      "  × Getting requirements to build wheel did not run successfully.\n",
      "  │ exit code: 1\n",
      "  ╰─> [31 lines of output]\n",
      "      Traceback (most recent call last):\n",
      "        File \"c:\\Users\\Nelso\\AppData\\Local\\Programs\\Python\\Python312\\Lib\\site-packages\\pip\\_vendor\\pyproject_hooks\\_in_process\\_in_process.py\", line 353, in <module>\n",
      "          main()\n",
      "        File \"c:\\Users\\Nelso\\AppData\\Local\\Programs\\Python\\Python312\\Lib\\site-packages\\pip\\_vendor\\pyproject_hooks\\_in_process\\_in_process.py\", line 335, in main\n",
      "          json_out['return_val'] = hook(**hook_input['kwargs'])\n",
      "                                   ^^^^^^^^^^^^^^^^^^^^^^^^^^^^\n",
      "        File \"c:\\Users\\Nelso\\AppData\\Local\\Programs\\Python\\Python312\\Lib\\site-packages\\pip\\_vendor\\pyproject_hooks\\_in_process\\_in_process.py\", line 118, in get_requires_for_build_wheel\n",
      "          return hook(config_settings)\n",
      "                 ^^^^^^^^^^^^^^^^^^^^^\n",
      "        File \"C:\\Users\\Nelso\\AppData\\Local\\Temp\\pip-build-env-4oht8lwb\\overlay\\Lib\\site-packages\\setuptools\\build_meta.py\", line 327, in get_requires_for_build_wheel\n",
      "          return self._get_build_requires(config_settings, requirements=[])\n",
      "                 ^^^^^^^^^^^^^^^^^^^^^^^^^^^^^^^^^^^^^^^^^^^^^^^^^^^^^^^^^^\n",
      "        File \"C:\\Users\\Nelso\\AppData\\Local\\Temp\\pip-build-env-4oht8lwb\\overlay\\Lib\\site-packages\\setuptools\\build_meta.py\", line 297, in _get_build_requires\n",
      "          self.run_setup()\n",
      "        File \"C:\\Users\\Nelso\\AppData\\Local\\Temp\\pip-build-env-4oht8lwb\\overlay\\Lib\\site-packages\\setuptools\\build_meta.py\", line 497, in run_setup\n",
      "          super().run_setup(setup_script=setup_script)\n",
      "        File \"C:\\Users\\Nelso\\AppData\\Local\\Temp\\pip-build-env-4oht8lwb\\overlay\\Lib\\site-packages\\setuptools\\build_meta.py\", line 313, in run_setup\n",
      "          exec(code, locals())\n",
      "        File \"<string>\", line 126, in <module>\n",
      "        File \"c:\\Users\\Nelso\\AppData\\Local\\Programs\\Python\\Python312\\Lib\\subprocess.py\", line 408, in check_call\n",
      "          retcode = call(*popenargs, **kwargs)\n",
      "                    ^^^^^^^^^^^^^^^^^^^^^^^^^^\n",
      "        File \"c:\\Users\\Nelso\\AppData\\Local\\Programs\\Python\\Python312\\Lib\\subprocess.py\", line 389, in call\n",
      "          with Popen(*popenargs, **kwargs) as p:\n",
      "               ^^^^^^^^^^^^^^^^^^^^^^^^^^^\n",
      "        File \"c:\\Users\\Nelso\\AppData\\Local\\Programs\\Python\\Python312\\Lib\\subprocess.py\", line 1026, in __init__\n",
      "          self._execute_child(args, executable, preexec_fn, close_fds,\n",
      "        File \"c:\\Users\\Nelso\\AppData\\Local\\Programs\\Python\\Python312\\Lib\\subprocess.py\", line 1538, in _execute_child\n",
      "          hp, ht, pid, tid = _winapi.CreateProcess(executable, args,\n",
      "                             ^^^^^^^^^^^^^^^^^^^^^^^^^^^^^^^^^^^^^^^\n",
      "      FileNotFoundError: [WinError 2] Le fichier spécifié est introuvable\n",
      "      [end of output]\n",
      "  \n",
      "  note: This error originates from a subprocess, and is likely not a problem with pip.\n",
      "error: subprocess-exited-with-error\n",
      "\n",
      "× Getting requirements to build wheel did not run successfully.\n",
      "│ exit code: 1\n",
      "╰─> See above for output.\n",
      "\n",
      "note: This error originates from a subprocess, and is likely not a problem with pip.\n",
      "\n",
      "[notice] A new release of pip is available: 24.0 -> 24.1.1\n",
      "[notice] To update, run: python.exe -m pip install --upgrade pip\n"
     ]
    },
    {
     "name": "stdout",
     "output_type": "stream",
     "text": [
      "\n",
      "  Using cached frame_semantic_transformer-0.10.0-py3-none-any.whl.metadata (8.3 kB)\n",
      "Collecting nlpaug<2.0.0,>=1.1.11 (from frame-semantic-transformer)\n",
      "  Using cached nlpaug-1.1.11-py3-none-any.whl.metadata (14 kB)\n",
      "Requirement already satisfied: nltk<4.0,>=3.7 in c:\\users\\nelso\\appdata\\roaming\\python\\python312\\site-packages (from frame-semantic-transformer) (3.8.1)\n",
      "Collecting protobuf<4.0.0,>=3.20.1 (from frame-semantic-transformer)\n",
      "  Using cached protobuf-3.20.3-py2.py3-none-any.whl.metadata (720 bytes)\n",
      "Collecting pytorch-lightning<2.0.0,>=1.6.2 (from frame-semantic-transformer)\n",
      "  Using cached pytorch_lightning-1.9.5-py3-none-any.whl.metadata (23 kB)\n",
      "Collecting sentencepiece<0.2.0,>=0.1.97 (from frame-semantic-transformer)\n",
      "  Using cached sentencepiece-0.1.99.tar.gz (2.6 MB)\n",
      "  Installing build dependencies: started\n",
      "  Installing build dependencies: finished with status 'done'\n",
      "  Getting requirements to build wheel: started\n",
      "  Getting requirements to build wheel: finished with status 'error'\n"
     ]
    }
   ],
   "source": [
    "%pip install frame-semantic-transformer"
   ]
  },
  {
   "cell_type": "code",
   "execution_count": null,
   "metadata": {},
   "outputs": [],
   "source": [
    "from frame_semantic_transformer import FrameSemanticTransformer\n",
    "\n",
    "frame_transformer = FrameSemanticTransformer()\n",
    "\n",
    "result = frame_transformer.detect_frames(\"The hallway smelt of boiled cabbage and old rag mats.\")\n",
    "\n",
    "print(f\"Results found in: {result.sentence}\")\n",
    "for frame in result.frames:\n",
    "    print(f\"FRAME: {frame.name}\")\n",
    "    for element in frame.frame_elements:\n",
    "        print(f\"{element.name}: {element.text}\")"
   ]
  }
 ],
 "metadata": {
  "kernelspec": {
   "display_name": "base",
   "language": "python",
   "name": "python3"
  },
  "language_info": {
   "codemirror_mode": {
    "name": "ipython",
    "version": 3
   },
   "file_extension": ".py",
   "mimetype": "text/x-python",
   "name": "python",
   "nbconvert_exporter": "python",
   "pygments_lexer": "ipython3",
   "version": "3.12.3"
  }
 },
 "nbformat": 4,
 "nbformat_minor": 2
}
